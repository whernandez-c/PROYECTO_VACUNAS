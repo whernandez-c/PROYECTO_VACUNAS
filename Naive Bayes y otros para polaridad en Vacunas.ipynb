{
 "cells": [
  {
   "cell_type": "markdown",
   "metadata": {},
   "source": [
    "# Naive Bayes para polaridad"
   ]
  },
  {
   "cell_type": "markdown",
   "metadata": {},
   "source": [
    "En este cuaderno estan algunos modelos para la polaridad algunos bayesianos y no bayesianos , la mayoria con bigramas\n",
    "   *  Naive Bayes multinomial\n",
    "   * Naive Bayes Bernoulli\n",
    "   * Naive Bayes Gaussiano \n",
    "   * Naive Bayes multinomial corregido\n",
    "   \n",
    "No bayesianos\n",
    "\n",
    "   * TF-IDF (Term Frequency-Inverse Document Frequency)\n",
    "   * SVM lineal\n",
    "   * Stochastic gradient descent \n",
    "   \n",
    "\n",
    "Fuente de https://github.com/DrManishSharma/NLP/blob/master/SentiAnalysis.ipynb\n",
    "\n",
    "que es el gradiente descendiente https://www.iartificial.net/gradiente-descendiente-para-aprendizaje-automatico/#Las_matematicas_del_Gradiente_Descendiente"
   ]
  },
  {
   "cell_type": "code",
   "execution_count": 4,
   "metadata": {},
   "outputs": [
    {
     "name": "stdout",
     "output_type": "stream",
     "text": [
      "Requirement already satisfied: sqlalchemy in /home/denislopez/anaconda3/lib/python3.8/site-packages (1.3.23)\r\n"
     ]
    }
   ],
   "source": [
    "!pip install sqlalchemy\n",
    "!pip install psycopg2\n",
    "!pip install pygresql"
   ]
  },
  {
   "cell_type": "code",
   "execution_count": 3,
   "metadata": {},
   "outputs": [],
   "source": [
    "#librerias \n",
    "import matplotlib as mpl\n",
    "import matplotlib.pyplot as plt\n",
    "import numpy as np\n",
    "import os\n",
    "import pandas as pd\n",
    "import seaborn as sns\n",
    "import matplotlib.pylab as plt\n",
    "#from tensorflow import keras\n",
    "from numpy import array\n",
    "from sklearn import metrics\n",
    "from sklearn.metrics import accuracy_score, precision_score, recall_score, f1_score,confusion_matrix,classification_report\n",
    "#from sklearn.naive_bayes import MultinomialNB\n",
    "from sklearn.model_selection import train_test_split,cross_val_score # para dividir la muestra en validacion y test"
   ]
  },
  {
   "cell_type": "code",
   "execution_count": 4,
   "metadata": {},
   "outputs": [],
   "source": [
    "from sklearn.feature_extraction.text import TfidfVectorizer# Create feature vectors"
   ]
  },
  {
   "cell_type": "markdown",
   "metadata": {},
   "source": [
    "Conexion de la BD al servidor"
   ]
  },
  {
   "cell_type": "code",
   "execution_count": 5,
   "metadata": {},
   "outputs": [
    {
     "name": "stdout",
     "output_type": "stream",
     "text": [
      "                                               texto  polaridad\n",
      "0  malo queremos gasolina de 10 el litro malo har...          2\n",
      "1  falta de vacunas en sabino genera molestia muc...          3\n",
      "2               sin vacunas no regresaremos a clases          3\n",
      "3  premio nobel de la paz 2021 para brigada medic...          2\n",
      "4  por qué no vacunar uruguayos por el mundo por ...          3\n"
     ]
    }
   ],
   "source": [
    "# IMPORTANDO LOS DATOS arreglados\n",
    "data=pd.read_csv('/home/denislopez/KL/SEM2_12021/nlp/Vacunas/Noambiguos_vacunas.csv', header=0)\n",
    "\n",
    "#data=data.drop(['Unnamed: 0'], index=1)\n",
    "data=data.iloc[:,8:10]\n",
    "print(data.head(5))"
   ]
  },
  {
   "cell_type": "code",
   "execution_count": 6,
   "metadata": {},
   "outputs": [
    {
     "data": {
      "text/html": [
       "<div>\n",
       "<style scoped>\n",
       "    .dataframe tbody tr th:only-of-type {\n",
       "        vertical-align: middle;\n",
       "    }\n",
       "\n",
       "    .dataframe tbody tr th {\n",
       "        vertical-align: top;\n",
       "    }\n",
       "\n",
       "    .dataframe thead th {\n",
       "        text-align: right;\n",
       "    }\n",
       "</style>\n",
       "<table border=\"1\" class=\"dataframe\">\n",
       "  <thead>\n",
       "    <tr style=\"text-align: right;\">\n",
       "      <th></th>\n",
       "      <th>texto</th>\n",
       "      <th>polaridad</th>\n",
       "    </tr>\n",
       "  </thead>\n",
       "  <tbody>\n",
       "    <tr>\n",
       "      <th>0</th>\n",
       "      <td>malo queremos gasolina de 10 el litro malo har...</td>\n",
       "      <td>NEUTRAL</td>\n",
       "    </tr>\n",
       "    <tr>\n",
       "      <th>1</th>\n",
       "      <td>falta de vacunas en sabino genera molestia muc...</td>\n",
       "      <td>NEGATIVE</td>\n",
       "    </tr>\n",
       "    <tr>\n",
       "      <th>2</th>\n",
       "      <td>sin vacunas no regresaremos a clases</td>\n",
       "      <td>NEGATIVE</td>\n",
       "    </tr>\n",
       "    <tr>\n",
       "      <th>3</th>\n",
       "      <td>premio nobel de la paz 2021 para brigada medic...</td>\n",
       "      <td>NEUTRAL</td>\n",
       "    </tr>\n",
       "    <tr>\n",
       "      <th>4</th>\n",
       "      <td>por qué no vacunar uruguayos por el mundo por ...</td>\n",
       "      <td>NEGATIVE</td>\n",
       "    </tr>\n",
       "  </tbody>\n",
       "</table>\n",
       "</div>"
      ],
      "text/plain": [
       "                                               texto polaridad\n",
       "0  malo queremos gasolina de 10 el litro malo har...   NEUTRAL\n",
       "1  falta de vacunas en sabino genera molestia muc...  NEGATIVE\n",
       "2               sin vacunas no regresaremos a clases  NEGATIVE\n",
       "3  premio nobel de la paz 2021 para brigada medic...   NEUTRAL\n",
       "4  por qué no vacunar uruguayos por el mundo por ...  NEGATIVE"
      ]
     },
     "execution_count": 6,
     "metadata": {},
     "output_type": "execute_result"
    }
   ],
   "source": [
    "reemplaza= {3.0: \"NEGATIVE\", 2.0: \"NEUTRAL\",1.0: \"POSITIVE\"}\n",
    "data.polaridad=data.polaridad.replace(reemplaza)\n",
    "data.head()"
   ]
  },
  {
   "cell_type": "code",
   "execution_count": 7,
   "metadata": {},
   "outputs": [
    {
     "data": {
      "text/plain": [
       "99"
      ]
     },
     "execution_count": 7,
     "metadata": {},
     "output_type": "execute_result"
    }
   ],
   "source": [
    "data_sin_negativo=data[data['polaridad']!=\"NEGATIVE\"]\n",
    "len(data_sin_negativo)"
   ]
  },
  {
   "cell_type": "code",
   "execution_count": 8,
   "metadata": {},
   "outputs": [
    {
     "data": {
      "text/plain": [
       "NEGATIVE    287\n",
       "NEUTRAL      57\n",
       "POSITIVE     42\n",
       "Name: polaridad, dtype: int64"
      ]
     },
     "execution_count": 8,
     "metadata": {},
     "output_type": "execute_result"
    }
   ],
   "source": [
    "data['polaridad'].value_counts()"
   ]
  },
  {
   "cell_type": "markdown",
   "metadata": {},
   "source": [
    "Dvidamos los datos en un 70% de entrenamiento y un 30% para validacion"
   ]
  },
  {
   "cell_type": "code",
   "execution_count": 9,
   "metadata": {},
   "outputs": [],
   "source": [
    "\n",
    "x_train, x_test, y_train, y_test = train_test_split(\n",
    "     data.texto, data.polaridad, test_size=0.3, shuffle=False, random_state=1010)\n"
   ]
  },
  {
   "cell_type": "markdown",
   "metadata": {},
   "source": [
    "vectorizacion de las palabras con el metodo Tf-idi gual que en SVM pero esta vez utilizando un bigrama "
   ]
  },
  {
   "cell_type": "code",
   "execution_count": 10,
   "metadata": {},
   "outputs": [],
   "source": [
    "vectorizer = TfidfVectorizer(min_df = 0.001,\n",
    "                             max_df = 0.9,\n",
    "                             sublinear_tf = True,\n",
    "                             use_idf = True,\n",
    "                            stop_words={'spanish'},\n",
    "                             ngram_range=(2,2))\n",
    "train_vectors = vectorizer.fit_transform(x_train)\n",
    "test_vectors = vectorizer.transform(x_test)"
   ]
  },
  {
   "cell_type": "code",
   "execution_count": 11,
   "metadata": {},
   "outputs": [
    {
     "name": "stderr",
     "output_type": "stream",
     "text": [
      "/home/denislopez/anaconda3/lib/python3.7/site-packages/gensim/similarities/__init__.py:15: UserWarning: The gensim.similarities.levenshtein submodule is disabled, because the optional Levenshtein package <https://pypi.org/project/python-Levenshtein/> is unavailable. Install Levenhstein (e.g. `pip install python-Levenshtein`) to suppress this warning.\n",
      "  warnings.warn(msg)\n"
     ]
    }
   ],
   "source": [
    "# Word2vec\n",
    "import gensim"
   ]
  },
  {
   "cell_type": "markdown",
   "metadata": {},
   "source": [
    "## NB multinomial (Naive Bayes multinomial)"
   ]
  },
  {
   "cell_type": "code",
   "execution_count": 12,
   "metadata": {},
   "outputs": [
    {
     "data": {
      "text/plain": [
       "MultinomialNB(alpha=0.2, class_prior=None, fit_prior=True)"
      ]
     },
     "execution_count": 12,
     "metadata": {},
     "output_type": "execute_result"
    }
   ],
   "source": [
    "from sklearn.naive_bayes import MultinomialNB\n",
    "MNB = MultinomialNB(alpha=0.2)\n",
    "MNB.fit(train_vectors, y_train)"
   ]
  },
  {
   "cell_type": "code",
   "execution_count": 13,
   "metadata": {},
   "outputs": [
    {
     "name": "stdout",
     "output_type": "stream",
     "text": [
      "acc: 74.13793103448276 %\n"
     ]
    }
   ],
   "source": [
    "\n",
    "predicted = MNB.predict(test_vectors)\n",
    "accuracy_score_mnb = metrics.accuracy_score(predicted, y_test)\n",
    "print(\"acc:\",accuracy_score_mnb*100,\"%\")"
   ]
  },
  {
   "cell_type": "markdown",
   "metadata": {},
   "source": [
    "veamos un ejemplo de prediccion "
   ]
  },
  {
   "cell_type": "code",
   "execution_count": 14,
   "metadata": {},
   "outputs": [
    {
     "name": "stdout",
     "output_type": "stream",
     "text": [
      "casificacodr Naive Bayes Multinomial de frase 1 ['NEGATIVE']\n",
      "casificacodr Naive Bayes Multinomial de frase 1 ['NEGATIVE']\n"
     ]
    }
   ],
   "source": [
    "\n",
    "#review_vector = vectorizer.transform(['@Avianca es de las peores aerolineas, nunca responden por los tiquetes, es decepcionante']) # vectorizing\n",
    "frase1=['las vacuna que me pusieron fue mala dio dolor de cabeza']\n",
    "frase2=['estoy contenta por mi vacuna']\n",
    "vector_frase1 = vectorizer.transform(frase1) # vectorizing\n",
    "vector_frase2 = vectorizer.transform(frase2)\n",
    "print('casificacodr Naive Bayes Multinomial de frase 1',MNB.predict(vector_frase1))\n",
    "print('casificacodr Naive Bayes Multinomial de frase 1',MNB.predict(vector_frase2))\n"
   ]
  },
  {
   "cell_type": "markdown",
   "metadata": {},
   "source": [
    "Validacion cruzada para al menos unas 5 muestras tomadas de forma aleatoria para ver como se comporta el accuracy"
   ]
  },
  {
   "cell_type": "code",
   "execution_count": 15,
   "metadata": {},
   "outputs": [
    {
     "name": "stdout",
     "output_type": "stream",
     "text": [
      "Cross-validation (accuracy) [0.51282051 0.67532468 0.75324675 0.7012987  0.63636364]\n",
      "Promedio cross-validation score (5-fold): 0.656\n"
     ]
    }
   ],
   "source": [
    "#validacion cruzada para el kernel rbf\n",
    "\n",
    "train_vectors = vectorizer.fit_transform(data['texto'])\n",
    "cv_scores=cross_val_score(MNB, train_vectors,data.polaridad,cv=5)\n",
    "print('Cross-validation (accuracy)', cross_val_score(MNB, train_vectors,\n",
    "                                                     data.polaridad,\n",
    "                                                     cv=5))\n",
    "print('Promedio cross-validation score (5-fold): {:.3f}'\n",
    "     .format(np.mean(cv_scores)))"
   ]
  },
  {
   "cell_type": "markdown",
   "metadata": {},
   "source": [
    " reporte del modelo"
   ]
  },
  {
   "cell_type": "code",
   "execution_count": 16,
   "metadata": {},
   "outputs": [
    {
     "name": "stdout",
     "output_type": "stream",
     "text": [
      "              precision    recall  f1-score   support\n",
      "\n",
      "    NEGATIVE       0.75      0.99      0.85        87\n",
      "     NEUTRAL       0.00      0.00      0.00        16\n",
      "    POSITIVE       0.00      0.00      0.00        13\n",
      "\n",
      "    accuracy                           0.74       116\n",
      "   macro avg       0.25      0.33      0.28       116\n",
      "weighted avg       0.56      0.74      0.64       116\n",
      "\n",
      "[[86  1  0]\n",
      " [16  0  0]\n",
      " [13  0  0]]\n",
      "acc 74.14%\n"
     ]
    },
    {
     "name": "stderr",
     "output_type": "stream",
     "text": [
      "/home/denislopez/anaconda3/lib/python3.7/site-packages/sklearn/metrics/_classification.py:1272: UndefinedMetricWarning: Precision and F-score are ill-defined and being set to 0.0 in labels with no predicted samples. Use `zero_division` parameter to control this behavior.\n",
      "  _warn_prf(average, modifier, msg_start, len(result))\n"
     ]
    }
   ],
   "source": [
    "# algunas metricas\n",
    "report= classification_report(y_test,predicted, output_dict=True)\n",
    "confusion = confusion_matrix(y_test, predicted)\n",
    "print(classification_report(y_test,predicted))\n",
    "print(confusion)\n",
    "print(\"acc\",str('{:4.2f}'.format(accuracy_score_mnb*100))+'%')"
   ]
  },
  {
   "cell_type": "markdown",
   "metadata": {},
   "source": [
    "## otros Naive Bayes -\"gaussiano\" -\"bernoulli\"-\"complement\""
   ]
  },
  {
   "cell_type": "code",
   "execution_count": 17,
   "metadata": {},
   "outputs": [
    {
     "name": "stdout",
     "output_type": "stream",
     "text": [
      "23.28%\n",
      "              precision    recall  f1-score   support\n",
      "\n",
      "    NEGATIVE       0.67      0.11      0.20        87\n",
      "     NEUTRAL       0.00      0.00      0.00        16\n",
      "    POSITIVE       0.10      0.62      0.17        13\n",
      "\n",
      "    accuracy                           0.16       116\n",
      "   macro avg       0.25      0.24      0.12       116\n",
      "weighted avg       0.51      0.16      0.17       116\n",
      "\n",
      "[[10 16 61]\n",
      " [ 2  0 14]\n",
      " [ 3  2  8]]\n"
     ]
    }
   ],
   "source": [
    "from sklearn.naive_bayes import ComplementNB\n",
    "train_vectors = vectorizer.fit_transform(data['texto'])\n",
    "X_train, X_test, Y_train, Y_test = train_test_split(train_vectors, data['polaridad'], test_size=0.3, random_state=1010)\n",
    "#ajustando el modelo\n",
    "                                                    \n",
    "CNB = ComplementNB()\n",
    "CNB.fit(X_train, Y_train)\n",
    "#evaluando el modelo con las metricas\n",
    "accuracy_score_comp = metrics.accuracy_score(CNB.predict(X_test),Y_test)\n",
    "\n",
    "print(str('{:4.2f}'.format(accuracy_score_comp*100))+'%')\n",
    "\n",
    "# algunas metricas\n",
    "report= classification_report(y_test,CNB.predict(X_test), output_dict=True)\n",
    "confusion = confusion_matrix(y_test, CNB.predict(X_test))\n",
    "print(classification_report(y_test,CNB.predict(X_test)))\n",
    "print(confusion)\n"
   ]
  },
  {
   "cell_type": "markdown",
   "metadata": {},
   "source": [
    "### NB Gaussiano"
   ]
  },
  {
   "cell_type": "code",
   "execution_count": 18,
   "metadata": {},
   "outputs": [
    {
     "name": "stdout",
     "output_type": "stream",
     "text": [
      "GNB accuracy = 56.90%\n",
      "              precision    recall  f1-score   support\n",
      "\n",
      "    NEGATIVE       0.72      0.73      0.73        82\n",
      "     NEUTRAL       0.14      0.05      0.08        19\n",
      "    POSITIVE       0.19      0.33      0.24        15\n",
      "\n",
      "    accuracy                           0.57       116\n",
      "   macro avg       0.35      0.37      0.35       116\n",
      "weighted avg       0.56      0.57      0.56       116\n",
      "\n",
      "[[64  5 18]\n",
      " [11  1  4]\n",
      " [ 8  1  4]]\n"
     ]
    }
   ],
   "source": [
    "from sklearn.naive_bayes import GaussianNB\n",
    "GNB = GaussianNB()\n",
    "GNB.fit(X_train.todense(), Y_train)\n",
    "prediction=GNB.predict(X_test.todense())\n",
    "accuracy_score_gauss = metrics.accuracy_score(prediction,Y_test)\n",
    "\n",
    "print('GNB accuracy = ' + str('{:4.2f}'.format(accuracy_score_gauss*100))+'%')\n",
    "\n",
    "# algunas metricas\n",
    "report= classification_report(Y_test,prediction, output_dict=True)\n",
    "confusion = confusion_matrix(y_test, prediction)\n",
    "print(classification_report(Y_test,prediction))\n",
    "print(confusion)\n"
   ]
  },
  {
   "cell_type": "markdown",
   "metadata": {},
   "source": [
    "### Bernoulli NB"
   ]
  },
  {
   "cell_type": "code",
   "execution_count": 19,
   "metadata": {},
   "outputs": [
    {
     "name": "stdout",
     "output_type": "stream",
     "text": [
      "BNB accuracy = 70.69%\n",
      "              precision    recall  f1-score   support\n",
      "\n",
      "    NEGATIVE       0.71      1.00      0.83        82\n",
      "     NEUTRAL       0.00      0.00      0.00        19\n",
      "    POSITIVE       0.00      0.00      0.00        15\n",
      "\n",
      "    accuracy                           0.71       116\n",
      "   macro avg       0.24      0.33      0.28       116\n",
      "weighted avg       0.50      0.71      0.59       116\n",
      "\n"
     ]
    },
    {
     "name": "stderr",
     "output_type": "stream",
     "text": [
      "/home/denislopez/anaconda3/lib/python3.7/site-packages/sklearn/metrics/_classification.py:1272: UndefinedMetricWarning: Precision and F-score are ill-defined and being set to 0.0 in labels with no predicted samples. Use `zero_division` parameter to control this behavior.\n",
      "  _warn_prf(average, modifier, msg_start, len(result))\n"
     ]
    }
   ],
   "source": [
    "from sklearn.naive_bayes import BernoulliNB\n",
    "BNB = BernoulliNB()\n",
    "BNB.fit(X_train, Y_train)\n",
    "accuracy_score_bernoulli = metrics.accuracy_score(BNB.predict(X_test),Y_test)\n",
    "prediction=BNB.predict(X_test)\n",
    "report= classification_report(Y_test,prediction)\n",
    "print('BNB accuracy = ' + str('{:4.2f}'.format(accuracy_score_bernoulli*100))+'%')\n",
    "print(report)"
   ]
  },
  {
   "cell_type": "markdown",
   "metadata": {},
   "source": [
    "### SGD classifier"
   ]
  },
  {
   "cell_type": "code",
   "execution_count": 20,
   "metadata": {},
   "outputs": [
    {
     "name": "stdout",
     "output_type": "stream",
     "text": [
      "BNB accuracy = 70.69%\n",
      "              precision    recall  f1-score   support\n",
      "\n",
      "    NEGATIVE       0.71      1.00      0.83        82\n",
      "     NEUTRAL       0.00      0.00      0.00        19\n",
      "    POSITIVE       0.00      0.00      0.00        15\n",
      "\n",
      "    accuracy                           0.71       116\n",
      "   macro avg       0.24      0.33      0.28       116\n",
      "weighted avg       0.50      0.71      0.59       116\n",
      "\n"
     ]
    }
   ],
   "source": [
    "from sklearn.linear_model import LogisticRegression, SGDClassifier\n",
    "from sklearn.svm import LinearSVC\n",
    "SGDC = SGDClassifier() #stochastic gradient descendent\n",
    "#LSVC = LinearSVC() # linear supoort vector machine\n",
    "SGDC.fit(X_train,Y_train)\n",
    "prediction=SGDC.predict(X_test)\n",
    "report= classification_report(Y_test,prediction)\n",
    "accuracy_score_SGD=metrics.accuracy_score(prediction,Y_test)\n",
    "print('BNB accuracy = ' + str('{:4.2f}'.format(accuracy_score_SGD*100))+'%')\n",
    "print(report)"
   ]
  },
  {
   "cell_type": "markdown",
   "metadata": {},
   "source": [
    "### Comparacion de metricas en algoritmos bayesianos"
   ]
  },
  {
   "cell_type": "code",
   "execution_count": 21,
   "metadata": {},
   "outputs": [
    {
     "name": "stdout",
     "output_type": "stream",
     "text": [
      "accuracy_score_mnb = 74.14%\n",
      "accuracy_score_bernoulli = 70.69%\n",
      "accuracy_score_comp = 23.28%\n",
      "accuracy_score_gauss = 56.90%\n",
      "accuracy_score_stochastic = 70.69% este es no bayesiano\n"
     ]
    }
   ],
   "source": [
    "#compilimg the model -> we are going to use already used models GNB, MNB, CNB, BNB\n",
    "#fitting the model\n",
    "\n",
    "print('accuracy_score_mnb = '+str('{:4.2f}'.format(accuracy_score_mnb*100))+'%')\n",
    "print('accuracy_score_bernoulli = '+str('{:4.2f}'.format(accuracy_score_bernoulli*100))+'%')\n",
    "print('accuracy_score_comp = '+str('{:4.2f}'.format(accuracy_score_comp*100))+'%')\n",
    "print('accuracy_score_gauss = '+str('{:4.2f}'.format(accuracy_score_gauss*100))+'%')\n",
    "print('accuracy_score_stochastic = '+str('{:4.2f}'.format(accuracy_score_SGD*100))+'%',\"este es no bayesiano\")\n"
   ]
  },
  {
   "cell_type": "code",
   "execution_count": 22,
   "metadata": {},
   "outputs": [
    {
     "name": "stdout",
     "output_type": "stream",
     "text": [
      "casificacodr Naive Bayes complement de frase 1 ['POSITIVE']\n",
      "casificacodr Naive Bayes complement de frase 2 ['NEGATIVE']\n",
      "---------------------------\n",
      "casificacodr Naive Bayes binomial de frase 1 ['NEGATIVE']\n",
      "casificacodr Naive Bayes binomial de frase 2 ['NEGATIVE']\n",
      "---------------------------\n",
      "casificacodr Naive Bayes SGDC de frase 1 ['NEGATIVE']\n",
      "casificacodr Naive Bayes SGDC de frase 2 ['NEGATIVE']\n",
      "---------------------------\n",
      "casificacodr Naive Bayes Gauss de frase 1 ['NEGATIVE']\n",
      "casificacodr Naive Bayes Gauss de frase 2 ['POSITIVE']\n",
      "---------------------------\n"
     ]
    }
   ],
   "source": [
    "### predicciones de diferentes modelos\n",
    "vector_frase1 = vectorizer.transform(frase1) # vectorizing\n",
    "vector_frase2 = vectorizer.transform(frase2)\n",
    "print('casificacodr Naive Bayes complement de frase 1',CNB.predict(vector_frase1))\n",
    "print('casificacodr Naive Bayes complement de frase 2',CNB.predict(vector_frase2))\n",
    "print('---------------------------')\n",
    "print('casificacodr Naive Bayes binomial de frase 1',BNB.predict(vector_frase1))\n",
    "print('casificacodr Naive Bayes binomial de frase 2',BNB.predict(vector_frase2))\n",
    "print('---------------------------')\n",
    "print('casificacodr Naive Bayes SGDC de frase 1',SGDC.predict(vector_frase1))\n",
    "print('casificacodr Naive Bayes SGDC de frase 2',SGDC.predict(vector_frase2))\n",
    "print('---------------------------')\n",
    "print('casificacodr Naive Bayes Gauss de frase 1',GNB.predict(vector_frase1.todense()))\n",
    "print('casificacodr Naive Bayes Gauss de frase 2',GNB.predict(vector_frase2.todense()))\n",
    "print('---------------------------')"
   ]
  },
  {
   "cell_type": "markdown",
   "metadata": {},
   "source": [
    "### Comparacion de metricas cuando TF-IDF no tiene parametros\n",
    "veamos como se comporta el TF -IDF solo con parmetros por defecto"
   ]
  },
  {
   "cell_type": "code",
   "execution_count": 23,
   "metadata": {},
   "outputs": [
    {
     "name": "stdout",
     "output_type": "stream",
     "text": [
      "SGDC accuracy = 72.16%\n",
      "              precision    recall  f1-score   support\n",
      "\n",
      "    NEGATIVE       0.99      0.73      0.84        95\n",
      "     NEUTRAL       0.08      0.50      0.13         2\n",
      "    POSITIVE       0.00      0.00      0.00         0\n",
      "\n",
      "    accuracy                           0.72        97\n",
      "   macro avg       0.35      0.41      0.32        97\n",
      "weighted avg       0.97      0.72      0.82        97\n",
      "\n"
     ]
    },
    {
     "name": "stderr",
     "output_type": "stream",
     "text": [
      "/home/denislopez/anaconda3/lib/python3.7/site-packages/sklearn/metrics/_classification.py:1272: UndefinedMetricWarning: Recall and F-score are ill-defined and being set to 0.0 in labels with no true samples. Use `zero_division` parameter to control this behavior.\n",
      "  _warn_prf(average, modifier, msg_start, len(result))\n"
     ]
    }
   ],
   "source": [
    "tfidf = TfidfVectorizer()\n",
    "text_count_2 = tfidf.fit_transform(data['texto'])\n",
    "\n",
    "#splitting the data in test and training\n",
    "#from sklearn.model_selection() import train_test_split()\n",
    "x_train, x_test, y_train, y_test = train_test_split(text_count_2, data['polaridad'],test_size=0.25,random_state=5)\n",
    "SGDC = SGDClassifier(loss='log',verbose=0, learning_rate='adaptive',eta0=2)\n",
    "SGDC.fit(x_train, y_train)\n",
    "accuracy_score_sgdc = metrics.accuracy_score(SGDC.predict(x_test), y_test)\n",
    "prediction=SGDC.predict(x_test)\n",
    "report= classification_report(prediction,y_test)\n",
    "print('SGDC accuracy = ' + str('{:4.2f}'.format(accuracy_score_sgdc*100))+'%')\n",
    "print(report)\n",
    "\n"
   ]
  },
  {
   "cell_type": "code",
   "execution_count": 24,
   "metadata": {},
   "outputs": [
    {
     "name": "stdout",
     "output_type": "stream",
     "text": [
      "---------------------------\n",
      "casificacodr Naive Bayes SGDC de frase 1 ['NEGATIVE']\n",
      "casificacodr Naive Bayes SGDC de frase 2 ['NEGATIVE']\n",
      "---------------------------\n"
     ]
    }
   ],
   "source": [
    "vector_frase1 = tfidf.transform(frase1) # vectorizing\n",
    "vector_frase2 = tfidf.transform(frase2)\n",
    "print('---------------------------')\n",
    "print('casificacodr Naive Bayes SGDC de frase 1',SGDC.predict(vector_frase1))\n",
    "print('casificacodr Naive Bayes SGDC de frase 2',SGDC.predict(vector_frase2))\n",
    "print('---------------------------')"
   ]
  },
  {
   "cell_type": "code",
   "execution_count": 25,
   "metadata": {},
   "outputs": [
    {
     "name": "stdout",
     "output_type": "stream",
     "text": [
      "[[ 1.34249118  0.30640376  0.         ... -1.8950597  -0.78191591\n",
      "   0.33901295]\n",
      " [-0.5329267   0.35176845  0.         ...  0.34744373 -0.5469461\n",
      "  -0.50005941]\n",
      " [-0.98767287 -0.9097333   0.         ...  1.43151419  1.59073315\n",
      "  -0.04323123]]\n",
      "20809.0\n"
     ]
    }
   ],
   "source": [
    "print(SGDC.coef_)\n",
    "print(SGDC.t_)"
   ]
  },
  {
   "cell_type": "code",
   "execution_count": 26,
   "metadata": {},
   "outputs": [],
   "source": [
    "# Utilizamos el Naive bayes gaussiano\n",
    "\n"
   ]
  },
  {
   "cell_type": "code",
   "execution_count": 27,
   "metadata": {},
   "outputs": [
    {
     "data": {
      "text/plain": [
       "476"
      ]
     },
     "execution_count": 27,
     "metadata": {},
     "output_type": "execute_result"
    }
   ],
   "source": [
    "# Utilicemos los descargados, según solo he visto para sinovac\n",
    "\n",
    "sinovac=pd.read_csv('/home/denislopez/07-Euclea/Tweets_sinovac.csv')\n",
    "len(sinovac)\n"
   ]
  },
  {
   "cell_type": "code",
   "execution_count": 28,
   "metadata": {},
   "outputs": [
    {
     "data": {
      "text/plain": [
       "472"
      ]
     },
     "execution_count": 28,
     "metadata": {},
     "output_type": "execute_result"
    }
   ],
   "source": [
    "sinovac=sinovac.dropna()\n",
    "len(sinovac)"
   ]
  },
  {
   "cell_type": "code",
   "execution_count": 29,
   "metadata": {},
   "outputs": [],
   "source": [
    "#predict=sinovac['pp']\n",
    "vector_predict=tfidf.transform(sinovac[\"pp\"])\n",
    "polaridad_predict=SGDC.predict(vector_predict)\n"
   ]
  },
  {
   "cell_type": "code",
   "execution_count": 30,
   "metadata": {},
   "outputs": [
    {
     "name": "stdout",
     "output_type": "stream",
     "text": [
      "NEGATIVE    420\n",
      "NEUTRAL      29\n",
      "POSITIVE     23\n",
      "Name: polaridad, dtype: int64\n"
     ]
    },
    {
     "data": {
      "image/png": "[encoded data removed]",
      "text/plain": [
       "<Figure size 648x432 with 1 Axes>"
      ]
     },
     "metadata": {
      "needs_background": "light"
     },
     "output_type": "display_data"
    }
   ],
   "source": [
    "a=pd.DataFrame(SGDC.predict(vector_predict))\n",
    "a=a.dropna()\n",
    "a.columns=['polaridad']\n",
    "print(a['polaridad'].value_counts())\n",
    "sent=sns.catplot(x=\"polaridad\", data=a, kind=\"count\", height=6, aspect=1.5, palette=\"PuBuGn_d\")\n",
    "sent.fig.subplots_adjust(top=0.9) # adjust the Figure in rp\n",
    "sent.fig.suptitle('Distribución de los sentimientos en tweets del vacunas')\n",
    "sent.set_axis_labels(\"\", \"Total\")\n",
    "plt.show();"
   ]
  },
  {
   "cell_type": "code",
   "execution_count": 31,
   "metadata": {},
   "outputs": [
    {
     "data": {
      "text/html": [
       "<div>\n",
       "<style scoped>\n",
       "    .dataframe tbody tr th:only-of-type {\n",
       "        vertical-align: middle;\n",
       "    }\n",
       "\n",
       "    .dataframe tbody tr th {\n",
       "        vertical-align: top;\n",
       "    }\n",
       "\n",
       "    .dataframe thead th {\n",
       "        text-align: right;\n",
       "    }\n",
       "</style>\n",
       "<table border=\"1\" class=\"dataframe\">\n",
       "  <thead>\n",
       "    <tr style=\"text-align: right;\">\n",
       "      <th></th>\n",
       "      <th>Unnamed: 0</th>\n",
       "      <th>tweets</th>\n",
       "      <th>date</th>\n",
       "      <th>city</th>\n",
       "      <th>user_location</th>\n",
       "      <th>id</th>\n",
       "      <th>link</th>\n",
       "      <th>texto_limpio</th>\n",
       "      <th>links</th>\n",
       "      <th>hashtags</th>\n",
       "      <th>mentions</th>\n",
       "      <th>pp</th>\n",
       "      <th>polaridad</th>\n",
       "    </tr>\n",
       "  </thead>\n",
       "  <tbody>\n",
       "    <tr>\n",
       "      <th>9</th>\n",
       "      <td>9.0</td>\n",
       "      <td>#HablemosDeVacunas @UniJaveriana Sinovac es un...</td>\n",
       "      <td>2021-06-03 16:45:14</td>\n",
       "      <td>Bogotá</td>\n",
       "      <td>Medellín, Colombia</td>\n",
       "      <td>1,40049379123307E+018</td>\n",
       "      <td>https://twitter.com/i/web/stuatus/140049379123...</td>\n",
       "      <td>Sinovac es una vacuna de Virus inactivado, s...</td>\n",
       "      <td>['https://t.co/WHQKeAZRba', 'https://t.co/1tTP...</td>\n",
       "      <td>['#HablemosDeVacunas', '#COVID19']</td>\n",
       "      <td>['@UniJaveriana', '@MinSaludCol']</td>\n",
       "      <td>virus inactivado segura efectiva plan luego co...</td>\n",
       "      <td>NEUTRAL</td>\n",
       "    </tr>\n",
       "    <tr>\n",
       "      <th>43</th>\n",
       "      <td>43.0</td>\n",
       "      <td>@marcela_gallego Mis padres, tíos abuelos, sue...</td>\n",
       "      <td>2021-06-03 12:44:33</td>\n",
       "      <td>Bogotá</td>\n",
       "      <td>Bogota</td>\n",
       "      <td>1,40043322084027E+018</td>\n",
       "      <td>https://twitter.com/i/web/stuatus/140043322084...</td>\n",
       "      <td>Mis padres, tíos abuelos, suegra, esposa, ami...</td>\n",
       "      <td>[]</td>\n",
       "      <td>[]</td>\n",
       "      <td>['@marcela_gallego']</td>\n",
       "      <td>padres tíos abuelos suegra esposa amigos famil...</td>\n",
       "      <td>NEUTRAL</td>\n",
       "    </tr>\n",
       "    <tr>\n",
       "      <th>52</th>\n",
       "      <td>52.0</td>\n",
       "      <td>@sepega_ He tenido pacientes en consulta que m...</td>\n",
       "      <td>2021-06-03 03:51:51</td>\n",
       "      <td>Bogotá</td>\n",
       "      <td>Medellín, Colombia</td>\n",
       "      <td>1,40029916506696E+018</td>\n",
       "      <td>https://twitter.com/i/web/stuatus/140029916506...</td>\n",
       "      <td>He tenido pacientes en consulta que me han co...</td>\n",
       "      <td>[]</td>\n",
       "      <td>[]</td>\n",
       "      <td>['@sepega_']</td>\n",
       "      <td>pacientes consulta contado cancelado citas vac...</td>\n",
       "      <td>NEUTRAL</td>\n",
       "    </tr>\n",
       "    <tr>\n",
       "      <th>89</th>\n",
       "      <td>89.0</td>\n",
       "      <td>Mi mamá (62 años) fue vacunada con Sinovac hac...</td>\n",
       "      <td>2021-06-02 18:06:26</td>\n",
       "      <td>Bogotá</td>\n",
       "      <td>Bogotá, D.C., Colombia</td>\n",
       "      <td>1,40015183809634E+018</td>\n",
       "      <td>https://twitter.com/i/web/stuatus/140015183809...</td>\n",
       "      <td>Mi mamá (62 años) fue vacunada con Sinovac hac...</td>\n",
       "      <td>['https://t.co/G8KvC57sei']</td>\n",
       "      <td>[]</td>\n",
       "      <td>[]</td>\n",
       "      <td>mamá años vacunada hace mes semana pasada conf...</td>\n",
       "      <td>NEUTRAL</td>\n",
       "    </tr>\n",
       "    <tr>\n",
       "      <th>99</th>\n",
       "      <td>99.0</td>\n",
       "      <td>El Gobierno ecuatoriano confirmó que este juni...</td>\n",
       "      <td>2021-06-02 15:03:00</td>\n",
       "      <td>Bogotá</td>\n",
       "      <td>Bogotá, DC, Colombia</td>\n",
       "      <td>1,40010567557379E+018</td>\n",
       "      <td>https://twitter.com/i/web/stuatus/140010567557...</td>\n",
       "      <td>El Gobierno ecuatoriano confirmó que este juni...</td>\n",
       "      <td>['https://t.co/RL3J8sKlkA', 'https://t.co/r8mS...</td>\n",
       "      <td>[]</td>\n",
       "      <td>[]</td>\n",
       "      <td>gobierno ecuatoriano confirmó junio recibirá m...</td>\n",
       "      <td>NEUTRAL</td>\n",
       "    </tr>\n",
       "    <tr>\n",
       "      <th>116</th>\n",
       "      <td>116.0</td>\n",
       "      <td>#SaludYVida\\n\\nUna ciudad ubicada en Sao Paulo...</td>\n",
       "      <td>2021-06-02 12:53:46</td>\n",
       "      <td>Bogotá</td>\n",
       "      <td>Bogotá, Colombia</td>\n",
       "      <td>1,40007315165715E+018</td>\n",
       "      <td>https://twitter.com/i/web/stuatus/140007315165...</td>\n",
       "      <td>\\n\\nUna ciudad ubicada en Sao Paulo, Brasil, i...</td>\n",
       "      <td>['https://t.co/3OPPsrRhau']</td>\n",
       "      <td>['#SaludYVida']</td>\n",
       "      <td>[]</td>\n",
       "      <td>ciudad ubicada sao paulo brasil inmunizó toda ...</td>\n",
       "      <td>NEUTRAL</td>\n",
       "    </tr>\n",
       "    <tr>\n",
       "      <th>178</th>\n",
       "      <td>178.0</td>\n",
       "      <td>@juansearroyo Arroyis la sinovac</td>\n",
       "      <td>2021-06-01 21:09:41</td>\n",
       "      <td>Bogotá</td>\n",
       "      <td>CALI-COLOMBIA</td>\n",
       "      <td>1,39983556596146E+018</td>\n",
       "      <td>https://twitter.com/i/web/stuatus/139983556596...</td>\n",
       "      <td>Arroyis la sinovac</td>\n",
       "      <td>[]</td>\n",
       "      <td>[]</td>\n",
       "      <td>['@juansearroyo']</td>\n",
       "      <td>arroyis</td>\n",
       "      <td>NEUTRAL</td>\n",
       "    </tr>\n",
       "    <tr>\n",
       "      <th>192</th>\n",
       "      <td>192.0</td>\n",
       "      <td>@sergiobarbosach La sinovac servirá también pa...</td>\n",
       "      <td>2021-06-01 19:30:24</td>\n",
       "      <td>Bogotá</td>\n",
       "      <td>Bogotá, D.C., Colombia</td>\n",
       "      <td>1,39981057956562E+018</td>\n",
       "      <td>https://twitter.com/i/web/stuatus/139981057956...</td>\n",
       "      <td>La sinovac servirá también para ese virus?</td>\n",
       "      <td>[]</td>\n",
       "      <td>[]</td>\n",
       "      <td>['@sergiobarbosach']</td>\n",
       "      <td>servirá virus</td>\n",
       "      <td>NEUTRAL</td>\n",
       "    </tr>\n",
       "    <tr>\n",
       "      <th>215</th>\n",
       "      <td>215.0</td>\n",
       "      <td>La OMS valida la vacuna de Sinovac contra la C...</td>\n",
       "      <td>2021-06-01 17:40:22</td>\n",
       "      <td>Bogotá</td>\n",
       "      <td>Colombia</td>\n",
       "      <td>1,39978288926126E+018</td>\n",
       "      <td>https://twitter.com/i/web/stuatus/139978288926...</td>\n",
       "      <td>La OMS valida la vacuna de Sinovac contra la C...</td>\n",
       "      <td>['https://t.co/02bYk0fSYa']</td>\n",
       "      <td>[]</td>\n",
       "      <td>[]</td>\n",
       "      <td>oms valida uso emergencia</td>\n",
       "      <td>NEUTRAL</td>\n",
       "    </tr>\n",
       "    <tr>\n",
       "      <th>227</th>\n",
       "      <td>227.0</td>\n",
       "      <td>¿Qué pasó con una ciudad que vacunó a toda su ...</td>\n",
       "      <td>2021-06-01 16:54:56</td>\n",
       "      <td>Bogotá</td>\n",
       "      <td>Bogotá</td>\n",
       "      <td>1,39977145832324E+018</td>\n",
       "      <td>https://twitter.com/i/web/stuatus/139977145832...</td>\n",
       "      <td>¿Qué pasó con una ciudad que vacunó a toda su ...</td>\n",
       "      <td>['https://t.co/9duPsaDxll', 'https://t.co/SxJQ...</td>\n",
       "      <td>[]</td>\n",
       "      <td>[]</td>\n",
       "      <td>pasó ciudad vacunó toda población contamos acá</td>\n",
       "      <td>NEUTRAL</td>\n",
       "    </tr>\n",
       "    <tr>\n",
       "      <th>236</th>\n",
       "      <td>236.0</td>\n",
       "      <td>Otra buena noticia frente a la Sinovac\\nhttps:...</td>\n",
       "      <td>2021-06-01 16:22:13</td>\n",
       "      <td>Bogotá</td>\n",
       "      <td>Bogotá, Colombia</td>\n",
       "      <td>1,39976322164132E+018</td>\n",
       "      <td>https://twitter.com/i/web/stuatus/139976322164...</td>\n",
       "      <td>Otra buena noticia frente a la Sinovac\\n</td>\n",
       "      <td>['https://t.co/minkLY2kco']</td>\n",
       "      <td>[]</td>\n",
       "      <td>[]</td>\n",
       "      <td>buena noticia frente</td>\n",
       "      <td>NEUTRAL</td>\n",
       "    </tr>\n",
       "    <tr>\n",
       "      <th>252</th>\n",
       "      <td>252.0</td>\n",
       "      <td>4. ¿Cuál es el intervalo entre dosis de Sinova...</td>\n",
       "      <td>2021-06-01 15:55:43</td>\n",
       "      <td>Bogotá</td>\n",
       "      <td>Medellín, Colombia</td>\n",
       "      <td>1,39975655539918E+018</td>\n",
       "      <td>https://twitter.com/i/web/stuatus/139975655539...</td>\n",
       "      <td>4. ¿Cuál es el intervalo entre dosis de Sinova...</td>\n",
       "      <td>[]</td>\n",
       "      <td>[]</td>\n",
       "      <td>[]</td>\n",
       "      <td>cuál intervalo dosis inicialmente días embargo...</td>\n",
       "      <td>NEUTRAL</td>\n",
       "    </tr>\n",
       "    <tr>\n",
       "      <th>262</th>\n",
       "      <td>262.0</td>\n",
       "      <td>#OMS aprobó \"uso de emergencia\" de vacuna chin...</td>\n",
       "      <td>2021-06-01 15:34:02</td>\n",
       "      <td>Bogotá</td>\n",
       "      <td>Bogotá - Colombia</td>\n",
       "      <td>1,39975109780426E+018</td>\n",
       "      <td>https://twitter.com/i/web/stuatus/139975109780...</td>\n",
       "      <td>aprobó \"uso de emergencia\" de vacuna china</td>\n",
       "      <td>['https://t.co/Vp3a3dIvm1']</td>\n",
       "      <td>['#OMS', '#Sinovac']</td>\n",
       "      <td>[]</td>\n",
       "      <td>aprobó uso emergencia china</td>\n",
       "      <td>NEUTRAL</td>\n",
       "    </tr>\n",
       "    <tr>\n",
       "      <th>273</th>\n",
       "      <td>273.0</td>\n",
       "      <td>OMS aprueba uso de emergencia de la vacuna chi...</td>\n",
       "      <td>2021-06-01 14:59:36</td>\n",
       "      <td>Bogotá</td>\n",
       "      <td>Bogotá, Colombia</td>\n",
       "      <td>1,39974243278741E+018</td>\n",
       "      <td>https://twitter.com/i/web/stuatus/139974243278...</td>\n",
       "      <td>OMS aprueba uso de emergencia de la vacuna chi...</td>\n",
       "      <td>['https://t.co/zOtj7oEpXp', 'https://t.co/E796...</td>\n",
       "      <td>[]</td>\n",
       "      <td>[]</td>\n",
       "      <td>oms aprueba uso emergencia china</td>\n",
       "      <td>NEUTRAL</td>\n",
       "    </tr>\n",
       "    <tr>\n",
       "      <th>283</th>\n",
       "      <td>283.0</td>\n",
       "      <td>@Juan79407977 Creo que más bien lo harían con ...</td>\n",
       "      <td>2021-06-01 14:01:06</td>\n",
       "      <td>Bogotá</td>\n",
       "      <td>Colombia</td>\n",
       "      <td>1,39972771196319E+018</td>\n",
       "      <td>https://twitter.com/i/web/stuatus/139972771196...</td>\n",
       "      <td>Creo que más bien lo harían con la Sinovac, o...</td>\n",
       "      <td>[]</td>\n",
       "      <td>[]</td>\n",
       "      <td>['@Juan79407977']</td>\n",
       "      <td>creo bien harían rusa beneplácito china rusia</td>\n",
       "      <td>NEUTRAL</td>\n",
       "    </tr>\n",
       "    <tr>\n",
       "      <th>284</th>\n",
       "      <td>284.0</td>\n",
       "      <td>@edwingiraldoloz @Fruizgomez Hola Edwin, actua...</td>\n",
       "      <td>2021-06-01 13:54:15</td>\n",
       "      <td>Bogotá</td>\n",
       "      <td>Bogota - Colombia</td>\n",
       "      <td>1,39972598714796E+018</td>\n",
       "      <td>https://twitter.com/i/web/stuatus/139972598714...</td>\n",
       "      <td>Hola Edwin, actualmente no se. Cuando llevé ...</td>\n",
       "      <td>[]</td>\n",
       "      <td>[]</td>\n",
       "      <td>['@edwingiraldoloz', '@Fruizgomez']</td>\n",
       "      <td>hola edwin actualmente llevé papá aplicaron ll...</td>\n",
       "      <td>NEUTRAL</td>\n",
       "    </tr>\n",
       "    <tr>\n",
       "      <th>302</th>\n",
       "      <td>302.0</td>\n",
       "      <td>@LiliAranCaba @Pinneaple__ las incidencias pob...</td>\n",
       "      <td>2021-06-01 01:02:16</td>\n",
       "      <td>Bogotá</td>\n",
       "      <td>Cali, Colombia</td>\n",
       "      <td>1,39953170920976E+018</td>\n",
       "      <td>https://twitter.com/i/web/stuatus/139953170920...</td>\n",
       "      <td>las incidencias poblacionales en la vacuna d...</td>\n",
       "      <td>[]</td>\n",
       "      <td>[]</td>\n",
       "      <td>['@LiliAranCaba', '@Pinneaple__']</td>\n",
       "      <td>incidencias poblacionales az sido menos bajas ...</td>\n",
       "      <td>NEUTRAL</td>\n",
       "    </tr>\n",
       "    <tr>\n",
       "      <th>322</th>\n",
       "      <td>322.0</td>\n",
       "      <td>MINSALUD - Res. 723/21 - Asignación y distribu...</td>\n",
       "      <td>2021-05-31 19:59:17</td>\n",
       "      <td>Bogotá</td>\n",
       "      <td>Colombia</td>\n",
       "      <td>1,39945546098251E+018</td>\n",
       "      <td>https://twitter.com/i/web/stuatus/139945546098...</td>\n",
       "      <td>MINSALUD - Res. 723/21 - Asignación y distribu...</td>\n",
       "      <td>['https://t.co/lExMoRaxAe']</td>\n",
       "      <td>[]</td>\n",
       "      <td>[]</td>\n",
       "      <td>minsalud res asignación distribución entregada...</td>\n",
       "      <td>NEUTRAL</td>\n",
       "    </tr>\n",
       "    <tr>\n",
       "      <th>326</th>\n",
       "      <td>326.0</td>\n",
       "      <td>@ConsueCorrales @davidbautistaqf Le entiendo. ...</td>\n",
       "      <td>2021-05-31 18:48:31</td>\n",
       "      <td>Bogotá</td>\n",
       "      <td>Colombia</td>\n",
       "      <td>1,39943765336013E+018</td>\n",
       "      <td>https://twitter.com/i/web/stuatus/139943765336...</td>\n",
       "      <td>Le entiendo. La semana pasada una conocida m...</td>\n",
       "      <td>[]</td>\n",
       "      <td>[]</td>\n",
       "      <td>['@ConsueCorrales', '@davidbautistaqf']</td>\n",
       "      <td>entiendo semana pasada conocida dijo iba vacun...</td>\n",
       "      <td>NEUTRAL</td>\n",
       "    </tr>\n",
       "    <tr>\n",
       "      <th>328</th>\n",
       "      <td>328.0</td>\n",
       "      <td>@ahlisto O sea, si a uno le aplican la de sino...</td>\n",
       "      <td>2021-05-31 18:39:52</td>\n",
       "      <td>Bogotá</td>\n",
       "      <td>bogotá</td>\n",
       "      <td>1,3994354758243E+018</td>\n",
       "      <td>https://twitter.com/i/web/stuatus/139943547582...</td>\n",
       "      <td>O sea, si a uno le aplican la de sinovac, qué...</td>\n",
       "      <td>[]</td>\n",
       "      <td>[]</td>\n",
       "      <td>['@ahlisto']</td>\n",
       "      <td>si aplican colegio vendría siendo</td>\n",
       "      <td>NEUTRAL</td>\n",
       "    </tr>\n",
       "    <tr>\n",
       "      <th>332</th>\n",
       "      <td>332.0</td>\n",
       "      <td>@mauroville @tuprimonv Pregunta para Duque. RE...</td>\n",
       "      <td>2021-05-31 18:22:50</td>\n",
       "      <td>Bogotá</td>\n",
       "      <td>Dagua</td>\n",
       "      <td>1,39943119055848E+018</td>\n",
       "      <td>https://twitter.com/i/web/stuatus/139943119055...</td>\n",
       "      <td>Pregunta para Duque. RESPONDA DUQUE! \\nQuebr...</td>\n",
       "      <td>[]</td>\n",
       "      <td>[]</td>\n",
       "      <td>['@mauroville', '@tuprimonv']</td>\n",
       "      <td>pregunta duque responda duque quebró país cuen...</td>\n",
       "      <td>NEUTRAL</td>\n",
       "    </tr>\n",
       "    <tr>\n",
       "      <th>353</th>\n",
       "      <td>353.0</td>\n",
       "      <td>Ante la insistencia de la @CONMEBOL de hacer l...</td>\n",
       "      <td>2021-05-31 01:22:14</td>\n",
       "      <td>Bogotá</td>\n",
       "      <td>Colombia</td>\n",
       "      <td>1,39917434904788E+018</td>\n",
       "      <td>https://twitter.com/i/web/stuatus/139917434904...</td>\n",
       "      <td>Ante la insistencia de la  de hacer la  a como...</td>\n",
       "      <td>[]</td>\n",
       "      <td>[]</td>\n",
       "      <td>['@CONMEBOL', '@CopaAmerica', '@stevenarce', '...</td>\n",
       "      <td>insistencia hacer lugar supone iban vacunar to...</td>\n",
       "      <td>NEUTRAL</td>\n",
       "    </tr>\n",
       "    <tr>\n",
       "      <th>389</th>\n",
       "      <td>389.0</td>\n",
       "      <td>@alvleont Pero tan graves? No se ha retrasado ...</td>\n",
       "      <td>2021-05-29 16:49:06</td>\n",
       "      <td>Bogotá</td>\n",
       "      <td>Medellín, Colombia</td>\n",
       "      <td>1,39868282362043E+018</td>\n",
       "      <td>https://twitter.com/i/web/stuatus/139868282362...</td>\n",
       "      <td>Pero tan graves? No se ha retrasado de manera...</td>\n",
       "      <td>[]</td>\n",
       "      <td>[]</td>\n",
       "      <td>['@alvleont']</td>\n",
       "      <td>tan graves retrasado manera mayor segunda dosi...</td>\n",
       "      <td>NEUTRAL</td>\n",
       "    </tr>\n",
       "    <tr>\n",
       "      <th>393</th>\n",
       "      <td>393.0</td>\n",
       "      <td>Le está yendo muy muy bien con el covid a los ...</td>\n",
       "      <td>2021-05-29 15:44:52</td>\n",
       "      <td>Bogotá</td>\n",
       "      <td>Bogotá, Colombia</td>\n",
       "      <td>1,39866665914617E+018</td>\n",
       "      <td>https://twitter.com/i/web/stuatus/139866665914...</td>\n",
       "      <td>Le está yendo muy muy bien con el covid a los ...</td>\n",
       "      <td>[]</td>\n",
       "      <td>[]</td>\n",
       "      <td>['@MinSaludCol']</td>\n",
       "      <td>yendo bien ancianos vacunados com mejor háganl...</td>\n",
       "      <td>NEUTRAL</td>\n",
       "    </tr>\n",
       "    <tr>\n",
       "      <th>399</th>\n",
       "      <td>399.0</td>\n",
       "      <td>Amigo @RonnySuarez_  sabras donde se puede lle...</td>\n",
       "      <td>2021-05-29 13:04:58</td>\n",
       "      <td>Bogotá</td>\n",
       "      <td>Bogota (Colombia)</td>\n",
       "      <td>1,39862642053296E+018</td>\n",
       "      <td>https://twitter.com/i/web/stuatus/139862642053...</td>\n",
       "      <td>Amigo   sabras donde se puede llevar a una señ...</td>\n",
       "      <td>[]</td>\n",
       "      <td>[]</td>\n",
       "      <td>['@RonnySuarez_', '@SectorSalud']</td>\n",
       "      <td>amigo sabras puede llevar señora toene dosis p...</td>\n",
       "      <td>NEUTRAL</td>\n",
       "    </tr>\n",
       "    <tr>\n",
       "      <th>406</th>\n",
       "      <td>406.0</td>\n",
       "      <td>#ÚLTIMAHORA Este sábado 29 de mayo inicia la v...</td>\n",
       "      <td>2021-05-28 21:40:14</td>\n",
       "      <td>Bogotá</td>\n",
       "      <td>Bogotá, D.C., Colombia</td>\n",
       "      <td>1,39839370499446E+018</td>\n",
       "      <td>https://twitter.com/i/web/stuatus/139839370499...</td>\n",
       "      <td>Este sábado 29 de mayo inicia la vacunación p...</td>\n",
       "      <td>['https://t.co/YwAG8NNhD7', 'https://t.co/TlgW...</td>\n",
       "      <td>['#ÚLTIMAHORA', '#TúyYoSomosQuindío']</td>\n",
       "      <td>[]</td>\n",
       "      <td>sábado mayo inicia vacunación docentes quindío...</td>\n",
       "      <td>NEUTRAL</td>\n",
       "    </tr>\n",
       "    <tr>\n",
       "      <th>438</th>\n",
       "      <td>438.0</td>\n",
       "      <td>@esedesergio @baudeleriana @NuitNoire27 @MinSa...</td>\n",
       "      <td>2021-05-27 22:48:06</td>\n",
       "      <td>Bogotá</td>\n",
       "      <td>Envigado, Colombia</td>\n",
       "      <td>1,39804839562181E+018</td>\n",
       "      <td>https://twitter.com/i/web/stuatus/139804839562...</td>\n",
       "      <td>Mi abuelita tiene la Sinovac segu...</td>\n",
       "      <td>[]</td>\n",
       "      <td>[]</td>\n",
       "      <td>['@esedesergio', '@baudeleriana', '@NuitNoire2...</td>\n",
       "      <td>abuelita segunda dosis días después dosis sali...</td>\n",
       "      <td>NEUTRAL</td>\n",
       "    </tr>\n",
       "    <tr>\n",
       "      <th>443</th>\n",
       "      <td>443.0</td>\n",
       "      <td>@SrSergioG Sinovac por acá</td>\n",
       "      <td>2021-05-27 18:42:05</td>\n",
       "      <td>Bogotá</td>\n",
       "      <td>Medellín</td>\n",
       "      <td>1,39798648110968E+018</td>\n",
       "      <td>https://twitter.com/i/web/stuatus/139798648110...</td>\n",
       "      <td>Sinovac por acá</td>\n",
       "      <td>[]</td>\n",
       "      <td>[]</td>\n",
       "      <td>['@SrSergioG']</td>\n",
       "      <td>acá</td>\n",
       "      <td>NEUTRAL</td>\n",
       "    </tr>\n",
       "    <tr>\n",
       "      <th>470</th>\n",
       "      <td>470.0</td>\n",
       "      <td>@redsaludnorte Buenas tardes,  Podría por favo...</td>\n",
       "      <td>2021-05-26 21:47:16</td>\n",
       "      <td>Bogotá</td>\n",
       "      <td>Cali</td>\n",
       "      <td>1,39767069858436E+018</td>\n",
       "      <td>https://twitter.com/i/web/stuatus/139767069858...</td>\n",
       "      <td>Buenas tardes,  Podría por favor  informarme ...</td>\n",
       "      <td>[]</td>\n",
       "      <td>[]</td>\n",
       "      <td>['@redsaludnorte']</td>\n",
       "      <td>buenas tardes podría favor informarme aplicand...</td>\n",
       "      <td>NEUTRAL</td>\n",
       "    </tr>\n",
       "  </tbody>\n",
       "</table>\n",
       "</div>"
      ],
      "text/plain": [
       "     Unnamed: 0                                             tweets  \\\n",
       "9           9.0  #HablemosDeVacunas @UniJaveriana Sinovac es un...   \n",
       "43         43.0  @marcela_gallego Mis padres, tíos abuelos, sue...   \n",
       "52         52.0  @sepega_ He tenido pacientes en consulta que m...   \n",
       "89         89.0  Mi mamá (62 años) fue vacunada con Sinovac hac...   \n",
       "99         99.0  El Gobierno ecuatoriano confirmó que este juni...   \n",
       "116       116.0  #SaludYVida\\n\\nUna ciudad ubicada en Sao Paulo...   \n",
       "178       178.0                   @juansearroyo Arroyis la sinovac   \n",
       "192       192.0  @sergiobarbosach La sinovac servirá también pa...   \n",
       "215       215.0  La OMS valida la vacuna de Sinovac contra la C...   \n",
       "227       227.0  ¿Qué pasó con una ciudad que vacunó a toda su ...   \n",
       "236       236.0  Otra buena noticia frente a la Sinovac\\nhttps:...   \n",
       "252       252.0  4. ¿Cuál es el intervalo entre dosis de Sinova...   \n",
       "262       262.0  #OMS aprobó \"uso de emergencia\" de vacuna chin...   \n",
       "273       273.0  OMS aprueba uso de emergencia de la vacuna chi...   \n",
       "283       283.0  @Juan79407977 Creo que más bien lo harían con ...   \n",
       "284       284.0  @edwingiraldoloz @Fruizgomez Hola Edwin, actua...   \n",
       "302       302.0  @LiliAranCaba @Pinneaple__ las incidencias pob...   \n",
       "322       322.0  MINSALUD - Res. 723/21 - Asignación y distribu...   \n",
       "326       326.0  @ConsueCorrales @davidbautistaqf Le entiendo. ...   \n",
       "328       328.0  @ahlisto O sea, si a uno le aplican la de sino...   \n",
       "332       332.0  @mauroville @tuprimonv Pregunta para Duque. RE...   \n",
       "353       353.0  Ante la insistencia de la @CONMEBOL de hacer l...   \n",
       "389       389.0  @alvleont Pero tan graves? No se ha retrasado ...   \n",
       "393       393.0  Le está yendo muy muy bien con el covid a los ...   \n",
       "399       399.0  Amigo @RonnySuarez_  sabras donde se puede lle...   \n",
       "406       406.0  #ÚLTIMAHORA Este sábado 29 de mayo inicia la v...   \n",
       "438       438.0  @esedesergio @baudeleriana @NuitNoire27 @MinSa...   \n",
       "443       443.0                         @SrSergioG Sinovac por acá   \n",
       "470       470.0  @redsaludnorte Buenas tardes,  Podría por favo...   \n",
       "\n",
       "                    date    city           user_location  \\\n",
       "9    2021-06-03 16:45:14  Bogotá      Medellín, Colombia   \n",
       "43   2021-06-03 12:44:33  Bogotá                  Bogota   \n",
       "52   2021-06-03 03:51:51  Bogotá      Medellín, Colombia   \n",
       "89   2021-06-02 18:06:26  Bogotá  Bogotá, D.C., Colombia   \n",
       "99   2021-06-02 15:03:00  Bogotá    Bogotá, DC, Colombia   \n",
       "116  2021-06-02 12:53:46  Bogotá        Bogotá, Colombia   \n",
       "178  2021-06-01 21:09:41  Bogotá           CALI-COLOMBIA   \n",
       "192  2021-06-01 19:30:24  Bogotá  Bogotá, D.C., Colombia   \n",
       "215  2021-06-01 17:40:22  Bogotá                Colombia   \n",
       "227  2021-06-01 16:54:56  Bogotá                  Bogotá   \n",
       "236  2021-06-01 16:22:13  Bogotá        Bogotá, Colombia   \n",
       "252  2021-06-01 15:55:43  Bogotá      Medellín, Colombia   \n",
       "262  2021-06-01 15:34:02  Bogotá       Bogotá - Colombia   \n",
       "273  2021-06-01 14:59:36  Bogotá        Bogotá, Colombia   \n",
       "283  2021-06-01 14:01:06  Bogotá                Colombia   \n",
       "284  2021-06-01 13:54:15  Bogotá       Bogota - Colombia   \n",
       "302  2021-06-01 01:02:16  Bogotá          Cali, Colombia   \n",
       "322  2021-05-31 19:59:17  Bogotá                Colombia   \n",
       "326  2021-05-31 18:48:31  Bogotá                Colombia   \n",
       "328  2021-05-31 18:39:52  Bogotá                  bogotá   \n",
       "332  2021-05-31 18:22:50  Bogotá                   Dagua   \n",
       "353  2021-05-31 01:22:14  Bogotá                Colombia   \n",
       "389  2021-05-29 16:49:06  Bogotá      Medellín, Colombia   \n",
       "393  2021-05-29 15:44:52  Bogotá        Bogotá, Colombia   \n",
       "399  2021-05-29 13:04:58  Bogotá       Bogota (Colombia)   \n",
       "406  2021-05-28 21:40:14  Bogotá  Bogotá, D.C., Colombia   \n",
       "438  2021-05-27 22:48:06  Bogotá      Envigado, Colombia   \n",
       "443  2021-05-27 18:42:05  Bogotá                Medellín   \n",
       "470  2021-05-26 21:47:16  Bogotá                    Cali   \n",
       "\n",
       "                        id                                               link  \\\n",
       "9    1,40049379123307E+018  https://twitter.com/i/web/stuatus/140049379123...   \n",
       "43   1,40043322084027E+018  https://twitter.com/i/web/stuatus/140043322084...   \n",
       "52   1,40029916506696E+018  https://twitter.com/i/web/stuatus/140029916506...   \n",
       "89   1,40015183809634E+018  https://twitter.com/i/web/stuatus/140015183809...   \n",
       "99   1,40010567557379E+018  https://twitter.com/i/web/stuatus/140010567557...   \n",
       "116  1,40007315165715E+018  https://twitter.com/i/web/stuatus/140007315165...   \n",
       "178  1,39983556596146E+018  https://twitter.com/i/web/stuatus/139983556596...   \n",
       "192  1,39981057956562E+018  https://twitter.com/i/web/stuatus/139981057956...   \n",
       "215  1,39978288926126E+018  https://twitter.com/i/web/stuatus/139978288926...   \n",
       "227  1,39977145832324E+018  https://twitter.com/i/web/stuatus/139977145832...   \n",
       "236  1,39976322164132E+018  https://twitter.com/i/web/stuatus/139976322164...   \n",
       "252  1,39975655539918E+018  https://twitter.com/i/web/stuatus/139975655539...   \n",
       "262  1,39975109780426E+018  https://twitter.com/i/web/stuatus/139975109780...   \n",
       "273  1,39974243278741E+018  https://twitter.com/i/web/stuatus/139974243278...   \n",
       "283  1,39972771196319E+018  https://twitter.com/i/web/stuatus/139972771196...   \n",
       "284  1,39972598714796E+018  https://twitter.com/i/web/stuatus/139972598714...   \n",
       "302  1,39953170920976E+018  https://twitter.com/i/web/stuatus/139953170920...   \n",
       "322  1,39945546098251E+018  https://twitter.com/i/web/stuatus/139945546098...   \n",
       "326  1,39943765336013E+018  https://twitter.com/i/web/stuatus/139943765336...   \n",
       "328   1,3994354758243E+018  https://twitter.com/i/web/stuatus/139943547582...   \n",
       "332  1,39943119055848E+018  https://twitter.com/i/web/stuatus/139943119055...   \n",
       "353  1,39917434904788E+018  https://twitter.com/i/web/stuatus/139917434904...   \n",
       "389  1,39868282362043E+018  https://twitter.com/i/web/stuatus/139868282362...   \n",
       "393  1,39866665914617E+018  https://twitter.com/i/web/stuatus/139866665914...   \n",
       "399  1,39862642053296E+018  https://twitter.com/i/web/stuatus/139862642053...   \n",
       "406  1,39839370499446E+018  https://twitter.com/i/web/stuatus/139839370499...   \n",
       "438  1,39804839562181E+018  https://twitter.com/i/web/stuatus/139804839562...   \n",
       "443  1,39798648110968E+018  https://twitter.com/i/web/stuatus/139798648110...   \n",
       "470  1,39767069858436E+018  https://twitter.com/i/web/stuatus/139767069858...   \n",
       "\n",
       "                                          texto_limpio  \\\n",
       "9      Sinovac es una vacuna de Virus inactivado, s...   \n",
       "43    Mis padres, tíos abuelos, suegra, esposa, ami...   \n",
       "52    He tenido pacientes en consulta que me han co...   \n",
       "89   Mi mamá (62 años) fue vacunada con Sinovac hac...   \n",
       "99   El Gobierno ecuatoriano confirmó que este juni...   \n",
       "116  \\n\\nUna ciudad ubicada en Sao Paulo, Brasil, i...   \n",
       "178                                 Arroyis la sinovac   \n",
       "192         La sinovac servirá también para ese virus?   \n",
       "215  La OMS valida la vacuna de Sinovac contra la C...   \n",
       "227  ¿Qué pasó con una ciudad que vacunó a toda su ...   \n",
       "236           Otra buena noticia frente a la Sinovac\\n   \n",
       "252  4. ¿Cuál es el intervalo entre dosis de Sinova...   \n",
       "262       aprobó \"uso de emergencia\" de vacuna china     \n",
       "273  OMS aprueba uso de emergencia de la vacuna chi...   \n",
       "283   Creo que más bien lo harían con la Sinovac, o...   \n",
       "284    Hola Edwin, actualmente no se. Cuando llevé ...   \n",
       "302    las incidencias poblacionales en la vacuna d...   \n",
       "322  MINSALUD - Res. 723/21 - Asignación y distribu...   \n",
       "326    Le entiendo. La semana pasada una conocida m...   \n",
       "328   O sea, si a uno le aplican la de sinovac, qué...   \n",
       "332    Pregunta para Duque. RESPONDA DUQUE! \\nQuebr...   \n",
       "353  Ante la insistencia de la  de hacer la  a como...   \n",
       "389   Pero tan graves? No se ha retrasado de manera...   \n",
       "393  Le está yendo muy muy bien con el covid a los ...   \n",
       "399  Amigo   sabras donde se puede llevar a una señ...   \n",
       "406   Este sábado 29 de mayo inicia la vacunación p...   \n",
       "438               Mi abuelita tiene la Sinovac segu...   \n",
       "443                                    Sinovac por acá   \n",
       "470   Buenas tardes,  Podría por favor  informarme ...   \n",
       "\n",
       "                                                 links  \\\n",
       "9    ['https://t.co/WHQKeAZRba', 'https://t.co/1tTP...   \n",
       "43                                                  []   \n",
       "52                                                  []   \n",
       "89                         ['https://t.co/G8KvC57sei']   \n",
       "99   ['https://t.co/RL3J8sKlkA', 'https://t.co/r8mS...   \n",
       "116                        ['https://t.co/3OPPsrRhau']   \n",
       "178                                                 []   \n",
       "192                                                 []   \n",
       "215                        ['https://t.co/02bYk0fSYa']   \n",
       "227  ['https://t.co/9duPsaDxll', 'https://t.co/SxJQ...   \n",
       "236                        ['https://t.co/minkLY2kco']   \n",
       "252                                                 []   \n",
       "262                        ['https://t.co/Vp3a3dIvm1']   \n",
       "273  ['https://t.co/zOtj7oEpXp', 'https://t.co/E796...   \n",
       "283                                                 []   \n",
       "284                                                 []   \n",
       "302                                                 []   \n",
       "322                        ['https://t.co/lExMoRaxAe']   \n",
       "326                                                 []   \n",
       "328                                                 []   \n",
       "332                                                 []   \n",
       "353                                                 []   \n",
       "389                                                 []   \n",
       "393                                                 []   \n",
       "399                                                 []   \n",
       "406  ['https://t.co/YwAG8NNhD7', 'https://t.co/TlgW...   \n",
       "438                                                 []   \n",
       "443                                                 []   \n",
       "470                                                 []   \n",
       "\n",
       "                                  hashtags  \\\n",
       "9       ['#HablemosDeVacunas', '#COVID19']   \n",
       "43                                      []   \n",
       "52                                      []   \n",
       "89                                      []   \n",
       "99                                      []   \n",
       "116                        ['#SaludYVida']   \n",
       "178                                     []   \n",
       "192                                     []   \n",
       "215                                     []   \n",
       "227                                     []   \n",
       "236                                     []   \n",
       "252                                     []   \n",
       "262                   ['#OMS', '#Sinovac']   \n",
       "273                                     []   \n",
       "283                                     []   \n",
       "284                                     []   \n",
       "302                                     []   \n",
       "322                                     []   \n",
       "326                                     []   \n",
       "328                                     []   \n",
       "332                                     []   \n",
       "353                                     []   \n",
       "389                                     []   \n",
       "393                                     []   \n",
       "399                                     []   \n",
       "406  ['#ÚLTIMAHORA', '#TúyYoSomosQuindío']   \n",
       "438                                     []   \n",
       "443                                     []   \n",
       "470                                     []   \n",
       "\n",
       "                                              mentions  \\\n",
       "9                    ['@UniJaveriana', '@MinSaludCol']   \n",
       "43                                ['@marcela_gallego']   \n",
       "52                                        ['@sepega_']   \n",
       "89                                                  []   \n",
       "99                                                  []   \n",
       "116                                                 []   \n",
       "178                                  ['@juansearroyo']   \n",
       "192                               ['@sergiobarbosach']   \n",
       "215                                                 []   \n",
       "227                                                 []   \n",
       "236                                                 []   \n",
       "252                                                 []   \n",
       "262                                                 []   \n",
       "273                                                 []   \n",
       "283                                  ['@Juan79407977']   \n",
       "284                ['@edwingiraldoloz', '@Fruizgomez']   \n",
       "302                  ['@LiliAranCaba', '@Pinneaple__']   \n",
       "322                                                 []   \n",
       "326            ['@ConsueCorrales', '@davidbautistaqf']   \n",
       "328                                       ['@ahlisto']   \n",
       "332                      ['@mauroville', '@tuprimonv']   \n",
       "353  ['@CONMEBOL', '@CopaAmerica', '@stevenarce', '...   \n",
       "389                                      ['@alvleont']   \n",
       "393                                   ['@MinSaludCol']   \n",
       "399                  ['@RonnySuarez_', '@SectorSalud']   \n",
       "406                                                 []   \n",
       "438  ['@esedesergio', '@baudeleriana', '@NuitNoire2...   \n",
       "443                                     ['@SrSergioG']   \n",
       "470                                 ['@redsaludnorte']   \n",
       "\n",
       "                                                    pp polaridad  \n",
       "9    virus inactivado segura efectiva plan luego co...   NEUTRAL  \n",
       "43   padres tíos abuelos suegra esposa amigos famil...   NEUTRAL  \n",
       "52   pacientes consulta contado cancelado citas vac...   NEUTRAL  \n",
       "89   mamá años vacunada hace mes semana pasada conf...   NEUTRAL  \n",
       "99   gobierno ecuatoriano confirmó junio recibirá m...   NEUTRAL  \n",
       "116  ciudad ubicada sao paulo brasil inmunizó toda ...   NEUTRAL  \n",
       "178                                            arroyis   NEUTRAL  \n",
       "192                                      servirá virus   NEUTRAL  \n",
       "215                          oms valida uso emergencia   NEUTRAL  \n",
       "227     pasó ciudad vacunó toda población contamos acá   NEUTRAL  \n",
       "236                               buena noticia frente   NEUTRAL  \n",
       "252  cuál intervalo dosis inicialmente días embargo...   NEUTRAL  \n",
       "262                        aprobó uso emergencia china   NEUTRAL  \n",
       "273                   oms aprueba uso emergencia china   NEUTRAL  \n",
       "283      creo bien harían rusa beneplácito china rusia   NEUTRAL  \n",
       "284  hola edwin actualmente llevé papá aplicaron ll...   NEUTRAL  \n",
       "302  incidencias poblacionales az sido menos bajas ...   NEUTRAL  \n",
       "322  minsalud res asignación distribución entregada...   NEUTRAL  \n",
       "326  entiendo semana pasada conocida dijo iba vacun...   NEUTRAL  \n",
       "328                  si aplican colegio vendría siendo   NEUTRAL  \n",
       "332  pregunta duque responda duque quebró país cuen...   NEUTRAL  \n",
       "353  insistencia hacer lugar supone iban vacunar to...   NEUTRAL  \n",
       "389  tan graves retrasado manera mayor segunda dosi...   NEUTRAL  \n",
       "393  yendo bien ancianos vacunados com mejor háganl...   NEUTRAL  \n",
       "399  amigo sabras puede llevar señora toene dosis p...   NEUTRAL  \n",
       "406  sábado mayo inicia vacunación docentes quindío...   NEUTRAL  \n",
       "438  abuelita segunda dosis días después dosis sali...   NEUTRAL  \n",
       "443                                                acá   NEUTRAL  \n",
       "470  buenas tardes podría favor informarme aplicand...   NEUTRAL  "
      ]
     },
     "execution_count": 31,
     "metadata": {},
     "output_type": "execute_result"
    }
   ],
   "source": [
    "#polaridad por ciudad\n",
    "d=pd.concat([sinovac,a['polaridad']], axis=1)\n",
    "d=d.dropna()\n",
    "d[d['polaridad']==\"NEUTRAL\"]"
   ]
  },
  {
   "cell_type": "code",
   "execution_count": 32,
   "metadata": {},
   "outputs": [
    {
     "data": {
      "text/html": [
       "<div>\n",
       "<style scoped>\n",
       "    .dataframe tbody tr th:only-of-type {\n",
       "        vertical-align: middle;\n",
       "    }\n",
       "\n",
       "    .dataframe tbody tr th {\n",
       "        vertical-align: top;\n",
       "    }\n",
       "\n",
       "    .dataframe thead th {\n",
       "        text-align: right;\n",
       "    }\n",
       "</style>\n",
       "<table border=\"1\" class=\"dataframe\">\n",
       "  <thead>\n",
       "    <tr style=\"text-align: right;\">\n",
       "      <th>city</th>\n",
       "      <th>Bogotá</th>\n",
       "    </tr>\n",
       "    <tr>\n",
       "      <th>polaridad</th>\n",
       "      <th></th>\n",
       "    </tr>\n",
       "  </thead>\n",
       "  <tbody>\n",
       "    <tr>\n",
       "      <th>NEGATIVE</th>\n",
       "      <td>416</td>\n",
       "    </tr>\n",
       "    <tr>\n",
       "      <th>NEUTRAL</th>\n",
       "      <td>29</td>\n",
       "    </tr>\n",
       "    <tr>\n",
       "      <th>POSITIVE</th>\n",
       "      <td>23</td>\n",
       "    </tr>\n",
       "  </tbody>\n",
       "</table>\n",
       "</div>"
      ],
      "text/plain": [
       "city       Bogotá\n",
       "polaridad        \n",
       "NEGATIVE      416\n",
       "NEUTRAL        29\n",
       "POSITIVE       23"
      ]
     },
     "execution_count": 32,
     "metadata": {},
     "output_type": "execute_result"
    }
   ],
   "source": [
    "a=pd.crosstab(d.polaridad,d.city)\n",
    "a"
   ]
  },
  {
   "cell_type": "markdown",
   "metadata": {},
   "source": [
    "## pfizer"
   ]
  },
  {
   "cell_type": "code",
   "execution_count": 34,
   "metadata": {},
   "outputs": [],
   "source": [
    "\n",
    "pfizer=pd.read_csv('/home/denislopez/07-Euclea/Tweets_pfizer.csv')\n",
    "len(pfizer)\n",
    "#predict=sinovac['pp']\n",
    "vector_predict=tfidf.transform(pfizer[\"pp\"])\n",
    "polaridad_predict=SGDC.predict(vector_predict)"
   ]
  },
  {
   "cell_type": "code",
   "execution_count": 35,
   "metadata": {},
   "outputs": [
    {
     "name": "stdout",
     "output_type": "stream",
     "text": [
      "NEGATIVE    819\n",
      "POSITIVE     98\n",
      "NEUTRAL      67\n",
      "Name: polaridad, dtype: int64\n"
     ]
    },
    {
     "data": {
      "image/png": "[encoded data removed]",
      "text/plain": [
       "<Figure size 648x432 with 1 Axes>"
      ]
     },
     "metadata": {
      "needs_background": "light"
     },
     "output_type": "display_data"
    }
   ],
   "source": [
    "a=pd.DataFrame(SGDC.predict(vector_predict))\n",
    "a=a.dropna()\n",
    "a.columns=['polaridad']\n",
    "print(a['polaridad'].value_counts())\n",
    "sent=sns.catplot(x=\"polaridad\", data=a, kind=\"count\", height=6, aspect=1.5, palette=\"PuBuGn_d\")\n",
    "sent.fig.subplots_adjust(top=0.9) # adjust the Figure in rp\n",
    "sent.fig.suptitle('Distribución de los sentimientos en tweets del vacunas')\n",
    "sent.set_axis_labels(\"\", \"Total\")\n",
    "plt.show();"
   ]
  },
  {
   "cell_type": "code",
   "execution_count": 36,
   "metadata": {},
   "outputs": [
    {
     "data": {
      "text/html": [
       "<div>\n",
       "<style scoped>\n",
       "    .dataframe tbody tr th:only-of-type {\n",
       "        vertical-align: middle;\n",
       "    }\n",
       "\n",
       "    .dataframe tbody tr th {\n",
       "        vertical-align: top;\n",
       "    }\n",
       "\n",
       "    .dataframe thead th {\n",
       "        text-align: right;\n",
       "    }\n",
       "</style>\n",
       "<table border=\"1\" class=\"dataframe\">\n",
       "  <thead>\n",
       "    <tr style=\"text-align: right;\">\n",
       "      <th>city</th>\n",
       "      <th>Bogotá</th>\n",
       "    </tr>\n",
       "    <tr>\n",
       "      <th>polaridad</th>\n",
       "      <th></th>\n",
       "    </tr>\n",
       "  </thead>\n",
       "  <tbody>\n",
       "    <tr>\n",
       "      <th>NEGATIVE</th>\n",
       "      <td>416</td>\n",
       "    </tr>\n",
       "    <tr>\n",
       "      <th>NEUTRAL</th>\n",
       "      <td>29</td>\n",
       "    </tr>\n",
       "    <tr>\n",
       "      <th>POSITIVE</th>\n",
       "      <td>23</td>\n",
       "    </tr>\n",
       "  </tbody>\n",
       "</table>\n",
       "</div>"
      ],
      "text/plain": [
       "city       Bogotá\n",
       "polaridad        \n",
       "NEGATIVE      416\n",
       "NEUTRAL        29\n",
       "POSITIVE       23"
      ]
     },
     "execution_count": 36,
     "metadata": {},
     "output_type": "execute_result"
    }
   ],
   "source": [
    "a=pd.crosstab(d.polaridad,d.city)\n",
    "a"
   ]
  }
 ],
 "metadata": {
  "kernelspec": {
   "display_name": "Python 3",
   "language": "python",
   "name": "python3"
  },
  "language_info": {
   "codemirror_mode": {
    "name": "ipython",
    "version": 3
   },
   "file_extension": ".py",
   "mimetype": "text/x-python",
   "name": "python",
   "nbconvert_exporter": "python",
   "pygments_lexer": "ipython3",
   "version": "3.8.5"
  }
 },
 "nbformat": 4,
 "nbformat_minor": 4
}

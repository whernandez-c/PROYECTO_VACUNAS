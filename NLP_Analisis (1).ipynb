{
 "cells": [
  {
   "cell_type": "markdown",
   "metadata": {
    "slideshow": {
     "slide_type": "slide"
    }
   },
   "source": [
    " ## Vacunas y Sentimientos \n",
    " ### Denis Lopez\n",
    " ### Wendy Hernandez \n",
    " ### Jessica Roncancio \n",
    "\n",
    "😀😀😂🤣😃😄😅😆😉😊😋😎😍😘🥰😗😙😚😐😑😶🙄😏😣😥😮😛😜😝🤤😒🙁😲☹😖😞😟😤😧😦😭😢😨😩🤯😬😱😡😷🤒🤕🤢\n",
    "                                                                                   \n",
    "                                                                                        "
   ]
  },
  {
   "cell_type": "markdown",
   "metadata": {
    "slideshow": {
     "slide_type": "slide"
    }
   },
   "source": [
    "## Objetivo "
   ]
  },
  {
   "cell_type": "markdown",
   "metadata": {
    "slideshow": {
     "slide_type": "slide"
    }
   },
   "source": [
    "https://www.youtube.com/watch?v=b7ard1O6DuU"
   ]
  },
  {
   "cell_type": "markdown",
   "metadata": {
    "slideshow": {
     "slide_type": "slide"
    }
   },
   "source": [
    "## Se realiza Análisis de la Vacuna Sinovac"
   ]
  },
  {
   "cell_type": "code",
   "execution_count": 3,
   "metadata": {
    "slideshow": {
     "slide_type": "skip"
    }
   },
   "outputs": [
    {
     "name": "stderr",
     "output_type": "stream",
     "text": [
      "[nltk_data] Downloading package stopwords to\n",
      "[nltk_data]     C:\\Users\\usuario\\AppData\\Roaming\\nltk_data...\n",
      "[nltk_data]   Package stopwords is already up-to-date!\n"
     ]
    },
    {
     "data": {
      "text/plain": [
       "True"
      ]
     },
     "execution_count": 3,
     "metadata": {},
     "output_type": "execute_result"
    }
   ],
   "source": [
    "\n",
    "# Instalamos las librearias\n",
    "import pandas as pd\n",
    "import numpy as np\n",
    "import tweepy\n",
    "from vaderSentiment.vaderSentiment import SentimentIntensityAnalyzer\n",
    "vader = SentimentIntensityAnalyzer()\n",
    "import matplotlib.pyplot as plt\n",
    "import PIL.Image\n",
    "from IPython.display import display\n",
    "import re\n",
    "import regex\n",
    "import emoji\n",
    "from nltk.corpus import stopwords\n",
    "import nltk\n",
    "from textblob import TextBlob\n",
    "from IPython.display import Image\n",
    "\n",
    "nltk.download('stopwords')"
   ]
  },
  {
   "cell_type": "code",
   "execution_count": 4,
   "metadata": {
    "slideshow": {
     "slide_type": "skip"
    }
   },
   "outputs": [
    {
     "data": {
      "text/plain": [
       "dict_keys(['api_key', 'api_secret_key', 'access_token', 'access_token_secret', 'bearer_token'])"
      ]
     },
     "execution_count": 4,
     "metadata": {},
     "output_type": "execute_result"
    }
   ],
   "source": [
    "keys = pd.read_csv(\"C:/Users/usuario/Desktop/NLP/22_Febrero/llaves.csv\", header=None)\n",
    "keys = dict(zip(keys[0],keys[1])) #Convetir a diccionario \n",
    "keys.keys()\n"
   ]
  },
  {
   "cell_type": "code",
   "execution_count": 5,
   "metadata": {
    "slideshow": {
     "slide_type": "skip"
    }
   },
   "outputs": [],
   "source": [
    "# Autenticar a través de la API \n",
    "auth = tweepy.OAuthHandler(keys['api_key'], keys['api_secret_key'])\n",
    "auth.set_access_token(keys['access_token'], keys['access_token_secret'])\n",
    "api = tweepy.API(auth, wait_on_rate_limit=True)"
   ]
  },
  {
   "cell_type": "code",
   "execution_count": 6,
   "metadata": {
    "slideshow": {
     "slide_type": "skip"
    }
   },
   "outputs": [],
   "source": [
    "tweets = tweepy.Cursor(api.search,\n",
    "                       q=['Sinovac -RT'], \n",
    "                       lang='es', \n",
    "                       geocode='4.595718,-73.645620,220km',\n",
    "                       tweet_mode='extended',\n",
    "                       include_rts=False,\n",
    "                       ).items(10000)\n",
    "\n"
   ]
  },
  {
   "cell_type": "code",
   "execution_count": 7,
   "metadata": {
    "slideshow": {
     "slide_type": "skip"
    }
   },
   "outputs": [
    {
     "data": {
      "text/plain": [
       "<tweepy.cursor.ItemIterator at 0x212e5307be0>"
      ]
     },
     "execution_count": 7,
     "metadata": {},
     "output_type": "execute_result"
    }
   ],
   "source": [
    "tweets ## convertir en objecto  interador a  normal es decir lista"
   ]
  },
  {
   "cell_type": "code",
   "execution_count": 8,
   "metadata": {
    "slideshow": {
     "slide_type": "skip"
    }
   },
   "outputs": [],
   "source": [
    "# Objecto generador\n",
    "t = [tweet for tweet in tweets]"
   ]
  },
  {
   "cell_type": "code",
   "execution_count": 9,
   "metadata": {
    "slideshow": {
     "slide_type": "skip"
    }
   },
   "outputs": [
    {
     "data": {
      "text/plain": [
       "'@JorgeGalindo Donde no sea por Sinovac quien sabe donde andaria Colombia. Los chinos nos salvaron.'"
      ]
     },
     "execution_count": 9,
     "metadata": {},
     "output_type": "execute_result"
    }
   ],
   "source": [
    "t[0].full_text"
   ]
  },
  {
   "cell_type": "code",
   "execution_count": 10,
   "metadata": {
    "slideshow": {
     "slide_type": "skip"
    }
   },
   "outputs": [
    {
     "data": {
      "text/plain": [
       "'Bogota'"
      ]
     },
     "execution_count": 10,
     "metadata": {},
     "output_type": "execute_result"
    }
   ],
   "source": [
    "t[0].user.location"
   ]
  },
  {
   "cell_type": "code",
   "execution_count": 11,
   "metadata": {
    "slideshow": {
     "slide_type": "skip"
    }
   },
   "outputs": [],
   "source": [
    "t_processed = []\n",
    "\n",
    "for tweet in t: \n",
    "    temp = []\n",
    "    temp.append(tweet.full_text)\n",
    "    temp.append(tweet.created_at)\n",
    "    temp.append('Bogotá')\n",
    "    temp.append(tweet.user.location)\n",
    "    temp.append(tweet.id)\n",
    "    temp.append(f\"https://twitter.com/i/web/stuatus/{tweet.id}\")\n",
    "    \n",
    "    t_processed.append(temp)"
   ]
  },
  {
   "cell_type": "code",
   "execution_count": 12,
   "metadata": {
    "slideshow": {
     "slide_type": "skip"
    }
   },
   "outputs": [
    {
     "data": {
      "text/html": [
       "<div>\n",
       "<style scoped>\n",
       "    .dataframe tbody tr th:only-of-type {\n",
       "        vertical-align: middle;\n",
       "    }\n",
       "\n",
       "    .dataframe tbody tr th {\n",
       "        vertical-align: top;\n",
       "    }\n",
       "\n",
       "    .dataframe thead th {\n",
       "        text-align: right;\n",
       "    }\n",
       "</style>\n",
       "<table border=\"1\" class=\"dataframe\">\n",
       "  <thead>\n",
       "    <tr style=\"text-align: right;\">\n",
       "      <th></th>\n",
       "      <th>tweets</th>\n",
       "      <th>date</th>\n",
       "      <th>city</th>\n",
       "      <th>user_location</th>\n",
       "      <th>id</th>\n",
       "      <th>link</th>\n",
       "    </tr>\n",
       "  </thead>\n",
       "  <tbody>\n",
       "    <tr>\n",
       "      <th>0</th>\n",
       "      <td>@JorgeGalindo Donde no sea por Sinovac quien s...</td>\n",
       "      <td>2021-06-03 21:16:00</td>\n",
       "      <td>Bogotá</td>\n",
       "      <td>Bogota</td>\n",
       "      <td>1400561932550168578</td>\n",
       "      <td>https://twitter.com/i/web/stuatus/140056193255...</td>\n",
       "    </tr>\n",
       "    <tr>\n",
       "      <th>1</th>\n",
       "      <td>@Alejand73085487 @Fruizgomez @MinSaludCol @inf...</td>\n",
       "      <td>2021-06-03 21:02:50</td>\n",
       "      <td>Bogotá</td>\n",
       "      <td>Bogotá, D.C., Colombia</td>\n",
       "      <td>1400558616852287499</td>\n",
       "      <td>https://twitter.com/i/web/stuatus/140055861685...</td>\n",
       "    </tr>\n",
       "    <tr>\n",
       "      <th>2</th>\n",
       "      <td>@Vicmunro @urnadecristal @infopresidencia @INS...</td>\n",
       "      <td>2021-06-03 20:56:56</td>\n",
       "      <td>Bogotá</td>\n",
       "      <td>Medellín</td>\n",
       "      <td>1400557134983610374</td>\n",
       "      <td>https://twitter.com/i/web/stuatus/140055713498...</td>\n",
       "    </tr>\n",
       "    <tr>\n",
       "      <th>3</th>\n",
       "      <td>@UniJaveriana @Laurabeta @PesquisaPUJ @javeria...</td>\n",
       "      <td>2021-06-03 20:18:27</td>\n",
       "      <td>Bogotá</td>\n",
       "      <td>Bogotá, D.C., Colombia</td>\n",
       "      <td>1400547448389521408</td>\n",
       "      <td>https://twitter.com/i/web/stuatus/140054744838...</td>\n",
       "    </tr>\n",
       "    <tr>\n",
       "      <th>4</th>\n",
       "      <td>#SinMitos @MinSaludCol señaló que el 15 de jun...</td>\n",
       "      <td>2021-06-03 19:56:59</td>\n",
       "      <td>Bogotá</td>\n",
       "      <td>Colombia</td>\n",
       "      <td>1400542046566457345</td>\n",
       "      <td>https://twitter.com/i/web/stuatus/140054204656...</td>\n",
       "    </tr>\n",
       "  </tbody>\n",
       "</table>\n",
       "</div>"
      ],
      "text/plain": [
       "                                              tweets                date  \\\n",
       "0  @JorgeGalindo Donde no sea por Sinovac quien s... 2021-06-03 21:16:00   \n",
       "1  @Alejand73085487 @Fruizgomez @MinSaludCol @inf... 2021-06-03 21:02:50   \n",
       "2  @Vicmunro @urnadecristal @infopresidencia @INS... 2021-06-03 20:56:56   \n",
       "3  @UniJaveriana @Laurabeta @PesquisaPUJ @javeria... 2021-06-03 20:18:27   \n",
       "4  #SinMitos @MinSaludCol señaló que el 15 de jun... 2021-06-03 19:56:59   \n",
       "\n",
       "     city           user_location                   id  \\\n",
       "0  Bogotá                  Bogota  1400561932550168578   \n",
       "1  Bogotá  Bogotá, D.C., Colombia  1400558616852287499   \n",
       "2  Bogotá                Medellín  1400557134983610374   \n",
       "3  Bogotá  Bogotá, D.C., Colombia  1400547448389521408   \n",
       "4  Bogotá                Colombia  1400542046566457345   \n",
       "\n",
       "                                                link  \n",
       "0  https://twitter.com/i/web/stuatus/140056193255...  \n",
       "1  https://twitter.com/i/web/stuatus/140055861685...  \n",
       "2  https://twitter.com/i/web/stuatus/140055713498...  \n",
       "3  https://twitter.com/i/web/stuatus/140054744838...  \n",
       "4  https://twitter.com/i/web/stuatus/140054204656...  "
      ]
     },
     "execution_count": 12,
     "metadata": {},
     "output_type": "execute_result"
    }
   ],
   "source": [
    "## mostralo bonito    \n",
    "data = pd.DataFrame(t_processed)\n",
    "data.columns = ['tweets', 'date', 'city', 'user_location', 'id', 'link']\n",
    "data.head()"
   ]
  },
  {
   "cell_type": "code",
   "execution_count": 13,
   "metadata": {
    "slideshow": {
     "slide_type": "skip"
    }
   },
   "outputs": [],
   "source": [
    "##Limpieza de datos\n",
    "\n",
    "\n",
    "import re \n",
    "\n",
    "pattern1 = '?P<pic>pic.twitter.com/[^\\s]+'\n",
    "pattern2 = '?P<url>https?://[^\\s]+'"
   ]
  },
  {
   "cell_type": "code",
   "execution_count": 14,
   "metadata": {
    "slideshow": {
     "slide_type": "skip"
    }
   },
   "outputs": [],
   "source": [
    "def text_clean(row):\n",
    "    text = row['tweets']\n",
    "    \n",
    "    links = [tuple(j for j in i if j)[-1] for i in re.findall(f\"({pattern1})|({pattern2})\",text)]\n",
    "    for link in links:\n",
    "        text = text.replace(link,\"\")\n",
    "    \n",
    "    hashtags = [interaction for interaction in text.split() if interaction.startswith(\"#\")]\n",
    "    for hashtag in hashtags:\n",
    "        text = text.replace(hashtag, \"\")\n",
    "        \n",
    "    mentions = [interaction for interaction in text.split() if interaction.startswith(\"@\")]\n",
    "    for mention in mentions:\n",
    "        text = text.replace(mention, \"\")\n",
    "        \n",
    "    return text, links, hashtags, mentions\n",
    "  "
   ]
  },
  {
   "cell_type": "code",
   "execution_count": 15,
   "metadata": {
    "slideshow": {
     "slide_type": "skip"
    }
   },
   "outputs": [
    {
     "data": {
      "text/html": [
       "<div>\n",
       "<style scoped>\n",
       "    .dataframe tbody tr th:only-of-type {\n",
       "        vertical-align: middle;\n",
       "    }\n",
       "\n",
       "    .dataframe tbody tr th {\n",
       "        vertical-align: top;\n",
       "    }\n",
       "\n",
       "    .dataframe thead th {\n",
       "        text-align: right;\n",
       "    }\n",
       "</style>\n",
       "<table border=\"1\" class=\"dataframe\">\n",
       "  <thead>\n",
       "    <tr style=\"text-align: right;\">\n",
       "      <th></th>\n",
       "      <th>tweets</th>\n",
       "      <th>date</th>\n",
       "      <th>city</th>\n",
       "      <th>user_location</th>\n",
       "      <th>id</th>\n",
       "      <th>link</th>\n",
       "      <th>texto_limpio</th>\n",
       "      <th>links</th>\n",
       "      <th>hashtags</th>\n",
       "      <th>mentions</th>\n",
       "    </tr>\n",
       "  </thead>\n",
       "  <tbody>\n",
       "    <tr>\n",
       "      <th>0</th>\n",
       "      <td>@JorgeGalindo Donde no sea por Sinovac quien s...</td>\n",
       "      <td>2021-06-03 21:16:00</td>\n",
       "      <td>Bogotá</td>\n",
       "      <td>Bogota</td>\n",
       "      <td>1400561932550168578</td>\n",
       "      <td>https://twitter.com/i/web/stuatus/140056193255...</td>\n",
       "      <td>Donde no sea por Sinovac quien sabe donde and...</td>\n",
       "      <td>[]</td>\n",
       "      <td>[]</td>\n",
       "      <td>[@JorgeGalindo]</td>\n",
       "    </tr>\n",
       "    <tr>\n",
       "      <th>1</th>\n",
       "      <td>@Alejand73085487 @Fruizgomez @MinSaludCol @inf...</td>\n",
       "      <td>2021-06-03 21:02:50</td>\n",
       "      <td>Bogotá</td>\n",
       "      <td>Bogotá, D.C., Colombia</td>\n",
       "      <td>1400558616852287499</td>\n",
       "      <td>https://twitter.com/i/web/stuatus/140055861685...</td>\n",
       "      <td>En USA usaron Pfizer, Moderna y Janssen; e...</td>\n",
       "      <td>[]</td>\n",
       "      <td>[]</td>\n",
       "      <td>[@Alejand73085487, @Fruizgomez, @MinSaludCol, ...</td>\n",
       "    </tr>\n",
       "    <tr>\n",
       "      <th>2</th>\n",
       "      <td>@Vicmunro @urnadecristal @infopresidencia @INS...</td>\n",
       "      <td>2021-06-03 20:56:56</td>\n",
       "      <td>Bogotá</td>\n",
       "      <td>Medellín</td>\n",
       "      <td>1400557134983610374</td>\n",
       "      <td>https://twitter.com/i/web/stuatus/140055713498...</td>\n",
       "      <td>Pregunta, cuando llegan mas vacunas de Sin...</td>\n",
       "      <td>[]</td>\n",
       "      <td>[]</td>\n",
       "      <td>[@Vicmunro, @urnadecristal, @infopresidencia, ...</td>\n",
       "    </tr>\n",
       "    <tr>\n",
       "      <th>3</th>\n",
       "      <td>@UniJaveriana @Laurabeta @PesquisaPUJ @javeria...</td>\n",
       "      <td>2021-06-03 20:18:27</td>\n",
       "      <td>Bogotá</td>\n",
       "      <td>Bogotá, D.C., Colombia</td>\n",
       "      <td>1400547448389521408</td>\n",
       "      <td>https://twitter.com/i/web/stuatus/140054744838...</td>\n",
       "      <td>puedo aplicarme la vacuna sinovac y la Pf...</td>\n",
       "      <td>[]</td>\n",
       "      <td>[#SinMitos]</td>\n",
       "      <td>[@UniJaveriana, @Laurabeta, @PesquisaPUJ, @jav...</td>\n",
       "    </tr>\n",
       "    <tr>\n",
       "      <th>4</th>\n",
       "      <td>#SinMitos @MinSaludCol señaló que el 15 de jun...</td>\n",
       "      <td>2021-06-03 19:56:59</td>\n",
       "      <td>Bogotá</td>\n",
       "      <td>Colombia</td>\n",
       "      <td>1400542046566457345</td>\n",
       "      <td>https://twitter.com/i/web/stuatus/140054204656...</td>\n",
       "      <td>señaló que el 15 de junio se dará apertura a...</td>\n",
       "      <td>[]</td>\n",
       "      <td>[#SinMitos]</td>\n",
       "      <td>[@MinSaludCol]</td>\n",
       "    </tr>\n",
       "    <tr>\n",
       "      <th>...</th>\n",
       "      <td>...</td>\n",
       "      <td>...</td>\n",
       "      <td>...</td>\n",
       "      <td>...</td>\n",
       "      <td>...</td>\n",
       "      <td>...</td>\n",
       "      <td>...</td>\n",
       "      <td>...</td>\n",
       "      <td>...</td>\n",
       "      <td>...</td>\n",
       "    </tr>\n",
       "    <tr>\n",
       "      <th>485</th>\n",
       "      <td>@MiyerTorresA @redsaludnorte @wirodriguezs @Jo...</td>\n",
       "      <td>2021-05-26 21:46:23</td>\n",
       "      <td>Bogotá</td>\n",
       "      <td>Cali</td>\n",
       "      <td>1397670474965041157</td>\n",
       "      <td>https://twitter.com/i/web/stuatus/139767047496...</td>\n",
       "      <td>Buenas tardes,  Podría por favor  info...</td>\n",
       "      <td>[]</td>\n",
       "      <td>[]</td>\n",
       "      <td>[@MiyerTorresA, @redsaludnorte, @wirodriguezs,...</td>\n",
       "    </tr>\n",
       "    <tr>\n",
       "      <th>486</th>\n",
       "      <td>Vacunas (PFIZER Y SINOVAC) se aplicaran desde ...</td>\n",
       "      <td>2021-05-26 21:37:55</td>\n",
       "      <td>Bogotá</td>\n",
       "      <td>Manizales, Caldas. Colombia</td>\n",
       "      <td>1397668346972327936</td>\n",
       "      <td>https://twitter.com/i/web/stuatus/139766834697...</td>\n",
       "      <td>Vacunas (PFIZER Y SINOVAC) se aplicaran desde ...</td>\n",
       "      <td>[https://t.co/vNr25RM64T]</td>\n",
       "      <td>[]</td>\n",
       "      <td>[]</td>\n",
       "    </tr>\n",
       "    <tr>\n",
       "      <th>487</th>\n",
       "      <td>@MinSaludCol Porqué en Colombia se está aplica...</td>\n",
       "      <td>2021-05-26 21:07:50</td>\n",
       "      <td>Bogotá</td>\n",
       "      <td>COLOMBIA</td>\n",
       "      <td>1397660775406309376</td>\n",
       "      <td>https://twitter.com/i/web/stuatus/139766077540...</td>\n",
       "      <td>Porqué en Colombia se está aplicando la vacun...</td>\n",
       "      <td>[]</td>\n",
       "      <td>[]</td>\n",
       "      <td>[@MinSaludCol]</td>\n",
       "    </tr>\n",
       "    <tr>\n",
       "      <th>488</th>\n",
       "      <td>Porqué si aún la OMS no ha aprobado el uso de ...</td>\n",
       "      <td>2021-05-26 20:56:05</td>\n",
       "      <td>Bogotá</td>\n",
       "      <td>COLOMBIA</td>\n",
       "      <td>1397657815766941702</td>\n",
       "      <td>https://twitter.com/i/web/stuatus/139765781576...</td>\n",
       "      <td>Porqué si aún la OMS no ha aprobado el uso de ...</td>\n",
       "      <td>[]</td>\n",
       "      <td>[]</td>\n",
       "      <td>[]</td>\n",
       "    </tr>\n",
       "    <tr>\n",
       "      <th>489</th>\n",
       "      <td>¿Cómo funcionan las vacunas en las personas qu...</td>\n",
       "      <td>2021-05-26 20:46:19</td>\n",
       "      <td>Bogotá</td>\n",
       "      <td>Colombia</td>\n",
       "      <td>1397655361021169671</td>\n",
       "      <td>https://twitter.com/i/web/stuatus/139765536102...</td>\n",
       "      <td>¿Cómo funcionan las vacunas en las personas qu...</td>\n",
       "      <td>[https://t.co/eiyoHC01FL, https://t.co/UTCosbG...</td>\n",
       "      <td>[]</td>\n",
       "      <td>[]</td>\n",
       "    </tr>\n",
       "  </tbody>\n",
       "</table>\n",
       "<p>490 rows × 10 columns</p>\n",
       "</div>"
      ],
      "text/plain": [
       "                                                tweets                date  \\\n",
       "0    @JorgeGalindo Donde no sea por Sinovac quien s... 2021-06-03 21:16:00   \n",
       "1    @Alejand73085487 @Fruizgomez @MinSaludCol @inf... 2021-06-03 21:02:50   \n",
       "2    @Vicmunro @urnadecristal @infopresidencia @INS... 2021-06-03 20:56:56   \n",
       "3    @UniJaveriana @Laurabeta @PesquisaPUJ @javeria... 2021-06-03 20:18:27   \n",
       "4    #SinMitos @MinSaludCol señaló que el 15 de jun... 2021-06-03 19:56:59   \n",
       "..                                                 ...                 ...   \n",
       "485  @MiyerTorresA @redsaludnorte @wirodriguezs @Jo... 2021-05-26 21:46:23   \n",
       "486  Vacunas (PFIZER Y SINOVAC) se aplicaran desde ... 2021-05-26 21:37:55   \n",
       "487  @MinSaludCol Porqué en Colombia se está aplica... 2021-05-26 21:07:50   \n",
       "488  Porqué si aún la OMS no ha aprobado el uso de ... 2021-05-26 20:56:05   \n",
       "489  ¿Cómo funcionan las vacunas en las personas qu... 2021-05-26 20:46:19   \n",
       "\n",
       "       city                user_location                   id  \\\n",
       "0    Bogotá                       Bogota  1400561932550168578   \n",
       "1    Bogotá       Bogotá, D.C., Colombia  1400558616852287499   \n",
       "2    Bogotá                     Medellín  1400557134983610374   \n",
       "3    Bogotá       Bogotá, D.C., Colombia  1400547448389521408   \n",
       "4    Bogotá                     Colombia  1400542046566457345   \n",
       "..      ...                          ...                  ...   \n",
       "485  Bogotá                         Cali  1397670474965041157   \n",
       "486  Bogotá  Manizales, Caldas. Colombia  1397668346972327936   \n",
       "487  Bogotá                     COLOMBIA  1397660775406309376   \n",
       "488  Bogotá                     COLOMBIA  1397657815766941702   \n",
       "489  Bogotá                     Colombia  1397655361021169671   \n",
       "\n",
       "                                                  link  \\\n",
       "0    https://twitter.com/i/web/stuatus/140056193255...   \n",
       "1    https://twitter.com/i/web/stuatus/140055861685...   \n",
       "2    https://twitter.com/i/web/stuatus/140055713498...   \n",
       "3    https://twitter.com/i/web/stuatus/140054744838...   \n",
       "4    https://twitter.com/i/web/stuatus/140054204656...   \n",
       "..                                                 ...   \n",
       "485  https://twitter.com/i/web/stuatus/139767047496...   \n",
       "486  https://twitter.com/i/web/stuatus/139766834697...   \n",
       "487  https://twitter.com/i/web/stuatus/139766077540...   \n",
       "488  https://twitter.com/i/web/stuatus/139765781576...   \n",
       "489  https://twitter.com/i/web/stuatus/139765536102...   \n",
       "\n",
       "                                          texto_limpio  \\\n",
       "0     Donde no sea por Sinovac quien sabe donde and...   \n",
       "1        En USA usaron Pfizer, Moderna y Janssen; e...   \n",
       "2        Pregunta, cuando llegan mas vacunas de Sin...   \n",
       "3         puedo aplicarme la vacuna sinovac y la Pf...   \n",
       "4      señaló que el 15 de junio se dará apertura a...   \n",
       "..                                                 ...   \n",
       "485          Buenas tardes,  Podría por favor  info...   \n",
       "486  Vacunas (PFIZER Y SINOVAC) se aplicaran desde ...   \n",
       "487   Porqué en Colombia se está aplicando la vacun...   \n",
       "488  Porqué si aún la OMS no ha aprobado el uso de ...   \n",
       "489  ¿Cómo funcionan las vacunas en las personas qu...   \n",
       "\n",
       "                                                 links     hashtags  \\\n",
       "0                                                   []           []   \n",
       "1                                                   []           []   \n",
       "2                                                   []           []   \n",
       "3                                                   []  [#SinMitos]   \n",
       "4                                                   []  [#SinMitos]   \n",
       "..                                                 ...          ...   \n",
       "485                                                 []           []   \n",
       "486                          [https://t.co/vNr25RM64T]           []   \n",
       "487                                                 []           []   \n",
       "488                                                 []           []   \n",
       "489  [https://t.co/eiyoHC01FL, https://t.co/UTCosbG...           []   \n",
       "\n",
       "                                              mentions  \n",
       "0                                      [@JorgeGalindo]  \n",
       "1    [@Alejand73085487, @Fruizgomez, @MinSaludCol, ...  \n",
       "2    [@Vicmunro, @urnadecristal, @infopresidencia, ...  \n",
       "3    [@UniJaveriana, @Laurabeta, @PesquisaPUJ, @jav...  \n",
       "4                                       [@MinSaludCol]  \n",
       "..                                                 ...  \n",
       "485  [@MiyerTorresA, @redsaludnorte, @wirodriguezs,...  \n",
       "486                                                 []  \n",
       "487                                     [@MinSaludCol]  \n",
       "488                                                 []  \n",
       "489                                                 []  \n",
       "\n",
       "[490 rows x 10 columns]"
      ]
     },
     "execution_count": 15,
     "metadata": {},
     "output_type": "execute_result"
    }
   ],
   "source": [
    "data[['texto_limpio', 'links', 'hashtags', 'mentions']] = data.apply(text_clean, axis=1, result_type='expand')\n",
    "data"
   ]
  },
  {
   "cell_type": "code",
   "execution_count": 16,
   "metadata": {
    "slideshow": {
     "slide_type": "skip"
    }
   },
   "outputs": [],
   "source": [
    "def get_emojis(text):\n",
    "    emoji_list = []\n",
    "    data = regex.findall(r'\\X', text)\n",
    "    for word in data:\n",
    "        if any(char in emoji.UNICODE_EMOJI['en'] for char in word):\n",
    "            emoji_list.append(word)\n",
    "\n",
    "    return emoji_list"
   ]
  },
  {
   "cell_type": "code",
   "execution_count": 17,
   "metadata": {
    "slideshow": {
     "slide_type": "skip"
    }
   },
   "outputs": [
    {
     "data": {
      "text/html": [
       "<div>\n",
       "<style scoped>\n",
       "    .dataframe tbody tr th:only-of-type {\n",
       "        vertical-align: middle;\n",
       "    }\n",
       "\n",
       "    .dataframe tbody tr th {\n",
       "        vertical-align: top;\n",
       "    }\n",
       "\n",
       "    .dataframe thead th {\n",
       "        text-align: right;\n",
       "    }\n",
       "</style>\n",
       "<table border=\"1\" class=\"dataframe\">\n",
       "  <thead>\n",
       "    <tr style=\"text-align: right;\">\n",
       "      <th></th>\n",
       "      <th>tweets</th>\n",
       "      <th>date</th>\n",
       "      <th>city</th>\n",
       "      <th>user_location</th>\n",
       "      <th>id</th>\n",
       "      <th>link</th>\n",
       "      <th>texto_limpio</th>\n",
       "      <th>links</th>\n",
       "      <th>hashtags</th>\n",
       "      <th>mentions</th>\n",
       "      <th>emojis</th>\n",
       "    </tr>\n",
       "  </thead>\n",
       "  <tbody>\n",
       "    <tr>\n",
       "      <th>0</th>\n",
       "      <td>@JorgeGalindo Donde no sea por Sinovac quien s...</td>\n",
       "      <td>2021-06-03 21:16:00</td>\n",
       "      <td>Bogotá</td>\n",
       "      <td>Bogota</td>\n",
       "      <td>1400561932550168578</td>\n",
       "      <td>https://twitter.com/i/web/stuatus/140056193255...</td>\n",
       "      <td>Donde no sea por Sinovac quien sabe donde and...</td>\n",
       "      <td>[]</td>\n",
       "      <td>[]</td>\n",
       "      <td>[@JorgeGalindo]</td>\n",
       "      <td>[]</td>\n",
       "    </tr>\n",
       "    <tr>\n",
       "      <th>1</th>\n",
       "      <td>@Alejand73085487 @Fruizgomez @MinSaludCol @inf...</td>\n",
       "      <td>2021-06-03 21:02:50</td>\n",
       "      <td>Bogotá</td>\n",
       "      <td>Bogotá, D.C., Colombia</td>\n",
       "      <td>1400558616852287499</td>\n",
       "      <td>https://twitter.com/i/web/stuatus/140055861685...</td>\n",
       "      <td>En USA usaron Pfizer, Moderna y Janssen; e...</td>\n",
       "      <td>[]</td>\n",
       "      <td>[]</td>\n",
       "      <td>[@Alejand73085487, @Fruizgomez, @MinSaludCol, ...</td>\n",
       "      <td>[]</td>\n",
       "    </tr>\n",
       "    <tr>\n",
       "      <th>2</th>\n",
       "      <td>@Vicmunro @urnadecristal @infopresidencia @INS...</td>\n",
       "      <td>2021-06-03 20:56:56</td>\n",
       "      <td>Bogotá</td>\n",
       "      <td>Medellín</td>\n",
       "      <td>1400557134983610374</td>\n",
       "      <td>https://twitter.com/i/web/stuatus/140055713498...</td>\n",
       "      <td>Pregunta, cuando llegan mas vacunas de Sin...</td>\n",
       "      <td>[]</td>\n",
       "      <td>[]</td>\n",
       "      <td>[@Vicmunro, @urnadecristal, @infopresidencia, ...</td>\n",
       "      <td>[]</td>\n",
       "    </tr>\n",
       "    <tr>\n",
       "      <th>3</th>\n",
       "      <td>@UniJaveriana @Laurabeta @PesquisaPUJ @javeria...</td>\n",
       "      <td>2021-06-03 20:18:27</td>\n",
       "      <td>Bogotá</td>\n",
       "      <td>Bogotá, D.C., Colombia</td>\n",
       "      <td>1400547448389521408</td>\n",
       "      <td>https://twitter.com/i/web/stuatus/140054744838...</td>\n",
       "      <td>puedo aplicarme la vacuna sinovac y la Pf...</td>\n",
       "      <td>[]</td>\n",
       "      <td>[#SinMitos]</td>\n",
       "      <td>[@UniJaveriana, @Laurabeta, @PesquisaPUJ, @jav...</td>\n",
       "      <td>[]</td>\n",
       "    </tr>\n",
       "    <tr>\n",
       "      <th>4</th>\n",
       "      <td>#SinMitos @MinSaludCol señaló que el 15 de jun...</td>\n",
       "      <td>2021-06-03 19:56:59</td>\n",
       "      <td>Bogotá</td>\n",
       "      <td>Colombia</td>\n",
       "      <td>1400542046566457345</td>\n",
       "      <td>https://twitter.com/i/web/stuatus/140054204656...</td>\n",
       "      <td>señaló que el 15 de junio se dará apertura a...</td>\n",
       "      <td>[]</td>\n",
       "      <td>[#SinMitos]</td>\n",
       "      <td>[@MinSaludCol]</td>\n",
       "      <td>[]</td>\n",
       "    </tr>\n",
       "  </tbody>\n",
       "</table>\n",
       "</div>"
      ],
      "text/plain": [
       "                                              tweets                date  \\\n",
       "0  @JorgeGalindo Donde no sea por Sinovac quien s... 2021-06-03 21:16:00   \n",
       "1  @Alejand73085487 @Fruizgomez @MinSaludCol @inf... 2021-06-03 21:02:50   \n",
       "2  @Vicmunro @urnadecristal @infopresidencia @INS... 2021-06-03 20:56:56   \n",
       "3  @UniJaveriana @Laurabeta @PesquisaPUJ @javeria... 2021-06-03 20:18:27   \n",
       "4  #SinMitos @MinSaludCol señaló que el 15 de jun... 2021-06-03 19:56:59   \n",
       "\n",
       "     city           user_location                   id  \\\n",
       "0  Bogotá                  Bogota  1400561932550168578   \n",
       "1  Bogotá  Bogotá, D.C., Colombia  1400558616852287499   \n",
       "2  Bogotá                Medellín  1400557134983610374   \n",
       "3  Bogotá  Bogotá, D.C., Colombia  1400547448389521408   \n",
       "4  Bogotá                Colombia  1400542046566457345   \n",
       "\n",
       "                                                link  \\\n",
       "0  https://twitter.com/i/web/stuatus/140056193255...   \n",
       "1  https://twitter.com/i/web/stuatus/140055861685...   \n",
       "2  https://twitter.com/i/web/stuatus/140055713498...   \n",
       "3  https://twitter.com/i/web/stuatus/140054744838...   \n",
       "4  https://twitter.com/i/web/stuatus/140054204656...   \n",
       "\n",
       "                                        texto_limpio links     hashtags  \\\n",
       "0   Donde no sea por Sinovac quien sabe donde and...    []           []   \n",
       "1      En USA usaron Pfizer, Moderna y Janssen; e...    []           []   \n",
       "2      Pregunta, cuando llegan mas vacunas de Sin...    []           []   \n",
       "3       puedo aplicarme la vacuna sinovac y la Pf...    []  [#SinMitos]   \n",
       "4    señaló que el 15 de junio se dará apertura a...    []  [#SinMitos]   \n",
       "\n",
       "                                            mentions emojis  \n",
       "0                                    [@JorgeGalindo]     []  \n",
       "1  [@Alejand73085487, @Fruizgomez, @MinSaludCol, ...     []  \n",
       "2  [@Vicmunro, @urnadecristal, @infopresidencia, ...     []  \n",
       "3  [@UniJaveriana, @Laurabeta, @PesquisaPUJ, @jav...     []  \n",
       "4                                     [@MinSaludCol]     []  "
      ]
     },
     "execution_count": 17,
     "metadata": {},
     "output_type": "execute_result"
    }
   ],
   "source": [
    "data['emojis'] = data['texto_limpio'].apply(lambda text: get_emojis(text))\n",
    "data.head()"
   ]
  },
  {
   "cell_type": "markdown",
   "metadata": {
    "slideshow": {
     "slide_type": "slide"
    }
   },
   "source": [
    "## Análisis de Sentimiento y Polaridad "
   ]
  },
  {
   "cell_type": "code",
   "execution_count": 18,
   "metadata": {
    "slideshow": {
     "slide_type": "skip"
    }
   },
   "outputs": [
    {
     "data": {
      "text/html": [
       "<div>\n",
       "<style scoped>\n",
       "    .dataframe tbody tr th:only-of-type {\n",
       "        vertical-align: middle;\n",
       "    }\n",
       "\n",
       "    .dataframe tbody tr th {\n",
       "        vertical-align: top;\n",
       "    }\n",
       "\n",
       "    .dataframe thead th {\n",
       "        text-align: right;\n",
       "    }\n",
       "</style>\n",
       "<table border=\"1\" class=\"dataframe\">\n",
       "  <thead>\n",
       "    <tr style=\"text-align: right;\">\n",
       "      <th></th>\n",
       "      <th>tweets</th>\n",
       "      <th>emojis</th>\n",
       "    </tr>\n",
       "  </thead>\n",
       "  <tbody>\n",
       "    <tr>\n",
       "      <th>0</th>\n",
       "      <td>@JorgeGalindo Donde no sea por Sinovac quien s...</td>\n",
       "      <td>[]</td>\n",
       "    </tr>\n",
       "    <tr>\n",
       "      <th>1</th>\n",
       "      <td>@Alejand73085487 @Fruizgomez @MinSaludCol @inf...</td>\n",
       "      <td>[]</td>\n",
       "    </tr>\n",
       "    <tr>\n",
       "      <th>2</th>\n",
       "      <td>@Vicmunro @urnadecristal @infopresidencia @INS...</td>\n",
       "      <td>[]</td>\n",
       "    </tr>\n",
       "    <tr>\n",
       "      <th>3</th>\n",
       "      <td>@UniJaveriana @Laurabeta @PesquisaPUJ @javeria...</td>\n",
       "      <td>[]</td>\n",
       "    </tr>\n",
       "    <tr>\n",
       "      <th>4</th>\n",
       "      <td>#SinMitos @MinSaludCol señaló que el 15 de jun...</td>\n",
       "      <td>[]</td>\n",
       "    </tr>\n",
       "  </tbody>\n",
       "</table>\n",
       "</div>"
      ],
      "text/plain": [
       "                                              tweets emojis\n",
       "0  @JorgeGalindo Donde no sea por Sinovac quien s...     []\n",
       "1  @Alejand73085487 @Fruizgomez @MinSaludCol @inf...     []\n",
       "2  @Vicmunro @urnadecristal @infopresidencia @INS...     []\n",
       "3  @UniJaveriana @Laurabeta @PesquisaPUJ @javeria...     []\n",
       "4  #SinMitos @MinSaludCol señaló que el 15 de jun...     []"
      ]
     },
     "execution_count": 18,
     "metadata": {},
     "output_type": "execute_result"
    }
   ],
   "source": [
    "datae = data[['tweets', 'emojis']]\n",
    "datae.head()"
   ]
  },
  {
   "cell_type": "code",
   "execution_count": 19,
   "metadata": {
    "slideshow": {
     "slide_type": "slide"
    }
   },
   "outputs": [
    {
     "data": {
      "text/html": [
       "<div>\n",
       "<style scoped>\n",
       "    .dataframe tbody tr th:only-of-type {\n",
       "        vertical-align: middle;\n",
       "    }\n",
       "\n",
       "    .dataframe tbody tr th {\n",
       "        vertical-align: top;\n",
       "    }\n",
       "\n",
       "    .dataframe thead th {\n",
       "        text-align: right;\n",
       "    }\n",
       "</style>\n",
       "<table border=\"1\" class=\"dataframe\">\n",
       "  <thead>\n",
       "    <tr style=\"text-align: right;\">\n",
       "      <th></th>\n",
       "      <th>texto_limpio</th>\n",
       "      <th>puntaje_sent</th>\n",
       "      <th>emojis</th>\n",
       "    </tr>\n",
       "  </thead>\n",
       "  <tbody>\n",
       "    <tr>\n",
       "      <th>0</th>\n",
       "      <td>Donde no sea por Sinovac quien sabe donde and...</td>\n",
       "      <td>-0.2960</td>\n",
       "      <td>[]</td>\n",
       "    </tr>\n",
       "    <tr>\n",
       "      <th>1</th>\n",
       "      <td>En USA usaron Pfizer, Moderna y Janssen; e...</td>\n",
       "      <td>-0.2960</td>\n",
       "      <td>[]</td>\n",
       "    </tr>\n",
       "    <tr>\n",
       "      <th>2</th>\n",
       "      <td>Pregunta, cuando llegan mas vacunas de Sin...</td>\n",
       "      <td>0.0000</td>\n",
       "      <td>[]</td>\n",
       "    </tr>\n",
       "    <tr>\n",
       "      <th>3</th>\n",
       "      <td>puedo aplicarme la vacuna sinovac y la Pf...</td>\n",
       "      <td>0.0000</td>\n",
       "      <td>[]</td>\n",
       "    </tr>\n",
       "    <tr>\n",
       "      <th>4</th>\n",
       "      <td>señaló que el 15 de junio se dará apertura a...</td>\n",
       "      <td>0.0000</td>\n",
       "      <td>[]</td>\n",
       "    </tr>\n",
       "    <tr>\n",
       "      <th>...</th>\n",
       "      <td>...</td>\n",
       "      <td>...</td>\n",
       "      <td>...</td>\n",
       "    </tr>\n",
       "    <tr>\n",
       "      <th>485</th>\n",
       "      <td>Buenas tardes,  Podría por favor  info...</td>\n",
       "      <td>0.5191</td>\n",
       "      <td>[]</td>\n",
       "    </tr>\n",
       "    <tr>\n",
       "      <th>486</th>\n",
       "      <td>Vacunas (PFIZER Y SINOVAC) se aplicaran desde ...</td>\n",
       "      <td>0.0000</td>\n",
       "      <td>[]</td>\n",
       "    </tr>\n",
       "    <tr>\n",
       "      <th>487</th>\n",
       "      <td>Porqué en Colombia se está aplicando la vacun...</td>\n",
       "      <td>-0.2960</td>\n",
       "      <td>[]</td>\n",
       "    </tr>\n",
       "    <tr>\n",
       "      <th>488</th>\n",
       "      <td>Porqué si aún la OMS no ha aprobado el uso de ...</td>\n",
       "      <td>0.2556</td>\n",
       "      <td>[]</td>\n",
       "    </tr>\n",
       "    <tr>\n",
       "      <th>489</th>\n",
       "      <td>¿Cómo funcionan las vacunas en las personas qu...</td>\n",
       "      <td>0.0000</td>\n",
       "      <td>[]</td>\n",
       "    </tr>\n",
       "  </tbody>\n",
       "</table>\n",
       "<p>490 rows × 3 columns</p>\n",
       "</div>"
      ],
      "text/plain": [
       "                                          texto_limpio  puntaje_sent emojis\n",
       "0     Donde no sea por Sinovac quien sabe donde and...       -0.2960     []\n",
       "1        En USA usaron Pfizer, Moderna y Janssen; e...       -0.2960     []\n",
       "2        Pregunta, cuando llegan mas vacunas de Sin...        0.0000     []\n",
       "3         puedo aplicarme la vacuna sinovac y la Pf...        0.0000     []\n",
       "4      señaló que el 15 de junio se dará apertura a...        0.0000     []\n",
       "..                                                 ...           ...    ...\n",
       "485          Buenas tardes,  Podría por favor  info...        0.5191     []\n",
       "486  Vacunas (PFIZER Y SINOVAC) se aplicaran desde ...        0.0000     []\n",
       "487   Porqué en Colombia se está aplicando la vacun...       -0.2960     []\n",
       "488  Porqué si aún la OMS no ha aprobado el uso de ...        0.2556     []\n",
       "489  ¿Cómo funcionan las vacunas en las personas qu...        0.0000     []\n",
       "\n",
       "[490 rows x 3 columns]"
      ]
     },
     "execution_count": 19,
     "metadata": {},
     "output_type": "execute_result"
    }
   ],
   "source": [
    "data['puntaje_sent']=data['texto_limpio'].apply(lambda x: vader.polarity_scores(x)['compound'])\n",
    "data[['texto_limpio','puntaje_sent', 'emojis']]"
   ]
  },
  {
   "cell_type": "code",
   "execution_count": 20,
   "metadata": {
    "slideshow": {
     "slide_type": "skip"
    }
   },
   "outputs": [
    {
     "data": {
      "text/html": [
       "<div>\n",
       "<style scoped>\n",
       "    .dataframe tbody tr th:only-of-type {\n",
       "        vertical-align: middle;\n",
       "    }\n",
       "\n",
       "    .dataframe tbody tr th {\n",
       "        vertical-align: top;\n",
       "    }\n",
       "\n",
       "    .dataframe thead th {\n",
       "        text-align: right;\n",
       "    }\n",
       "</style>\n",
       "<table border=\"1\" class=\"dataframe\">\n",
       "  <thead>\n",
       "    <tr style=\"text-align: right;\">\n",
       "      <th></th>\n",
       "      <th>texto_limpio</th>\n",
       "      <th>puntaje</th>\n",
       "    </tr>\n",
       "  </thead>\n",
       "  <tbody>\n",
       "    <tr>\n",
       "      <th>0</th>\n",
       "      <td>Donde no sea por Sinovac quien sabe donde and...</td>\n",
       "      <td>-0.2960</td>\n",
       "    </tr>\n",
       "    <tr>\n",
       "      <th>1</th>\n",
       "      <td>En USA usaron Pfizer, Moderna y Janssen; e...</td>\n",
       "      <td>-0.2960</td>\n",
       "    </tr>\n",
       "    <tr>\n",
       "      <th>2</th>\n",
       "      <td>Pregunta, cuando llegan mas vacunas de Sin...</td>\n",
       "      <td>0.0000</td>\n",
       "    </tr>\n",
       "    <tr>\n",
       "      <th>3</th>\n",
       "      <td>puedo aplicarme la vacuna sinovac y la Pf...</td>\n",
       "      <td>0.0000</td>\n",
       "    </tr>\n",
       "    <tr>\n",
       "      <th>4</th>\n",
       "      <td>señaló que el 15 de junio se dará apertura a...</td>\n",
       "      <td>0.0000</td>\n",
       "    </tr>\n",
       "    <tr>\n",
       "      <th>...</th>\n",
       "      <td>...</td>\n",
       "      <td>...</td>\n",
       "    </tr>\n",
       "    <tr>\n",
       "      <th>485</th>\n",
       "      <td>Buenas tardes,  Podría por favor  info...</td>\n",
       "      <td>0.5191</td>\n",
       "    </tr>\n",
       "    <tr>\n",
       "      <th>486</th>\n",
       "      <td>Vacunas (PFIZER Y SINOVAC) se aplicaran desde ...</td>\n",
       "      <td>0.0000</td>\n",
       "    </tr>\n",
       "    <tr>\n",
       "      <th>487</th>\n",
       "      <td>Porqué en Colombia se está aplicando la vacun...</td>\n",
       "      <td>-0.2960</td>\n",
       "    </tr>\n",
       "    <tr>\n",
       "      <th>488</th>\n",
       "      <td>Porqué si aún la OMS no ha aprobado el uso de ...</td>\n",
       "      <td>0.2556</td>\n",
       "    </tr>\n",
       "    <tr>\n",
       "      <th>489</th>\n",
       "      <td>¿Cómo funcionan las vacunas en las personas qu...</td>\n",
       "      <td>0.0000</td>\n",
       "    </tr>\n",
       "  </tbody>\n",
       "</table>\n",
       "<p>490 rows × 2 columns</p>\n",
       "</div>"
      ],
      "text/plain": [
       "                                          texto_limpio  puntaje\n",
       "0     Donde no sea por Sinovac quien sabe donde and...  -0.2960\n",
       "1        En USA usaron Pfizer, Moderna y Janssen; e...  -0.2960\n",
       "2        Pregunta, cuando llegan mas vacunas de Sin...   0.0000\n",
       "3         puedo aplicarme la vacuna sinovac y la Pf...   0.0000\n",
       "4      señaló que el 15 de junio se dará apertura a...   0.0000\n",
       "..                                                 ...      ...\n",
       "485          Buenas tardes,  Podría por favor  info...   0.5191\n",
       "486  Vacunas (PFIZER Y SINOVAC) se aplicaran desde ...   0.0000\n",
       "487   Porqué en Colombia se está aplicando la vacun...  -0.2960\n",
       "488  Porqué si aún la OMS no ha aprobado el uso de ...   0.2556\n",
       "489  ¿Cómo funcionan las vacunas en las personas qu...   0.0000\n",
       "\n",
       "[490 rows x 2 columns]"
      ]
     },
     "execution_count": 20,
     "metadata": {},
     "output_type": "execute_result"
    }
   ],
   "source": [
    "data['puntaje']=data['texto_limpio'].apply(lambda x: vader.polarity_scores(x)['compound'])\n",
    "data[['texto_limpio','puntaje']]\n"
   ]
  },
  {
   "cell_type": "markdown",
   "metadata": {
    "slideshow": {
     "slide_type": "slide"
    }
   },
   "source": [
    "## Tweet  (SINOVAC)"
   ]
  },
  {
   "cell_type": "code",
   "execution_count": 21,
   "metadata": {
    "slideshow": {
     "slide_type": "skip"
    }
   },
   "outputs": [],
   "source": [
    "def pre_procesado(texto):\n",
    "    if texto > 0:\n",
    "        senti = 'POSITIVE'\n",
    "        #return senti\n",
    "    if texto < 0:\n",
    "        senti = 'NEGATIVE' \n",
    "        #return senti\n",
    "    if texto == 0:\n",
    "        senti = 'NEUTRO' \n",
    "    return senti\n",
    "\n",
    "data['tipo_sent'] = data['puntaje_sent'].apply(lambda texto: pre_procesado(texto))\n",
    "#data\n",
    "\n"
   ]
  },
  {
   "cell_type": "code",
   "execution_count": 22,
   "metadata": {
    "slideshow": {
     "slide_type": "slide"
    }
   },
   "outputs": [
    {
     "data": {
      "text/html": [
       "<div>\n",
       "<style scoped>\n",
       "    .dataframe tbody tr th:only-of-type {\n",
       "        vertical-align: middle;\n",
       "    }\n",
       "\n",
       "    .dataframe tbody tr th {\n",
       "        vertical-align: top;\n",
       "    }\n",
       "\n",
       "    .dataframe thead th {\n",
       "        text-align: right;\n",
       "    }\n",
       "</style>\n",
       "<table border=\"1\" class=\"dataframe\">\n",
       "  <thead>\n",
       "    <tr style=\"text-align: right;\">\n",
       "      <th></th>\n",
       "      <th>tipo_sent</th>\n",
       "      <th>cnt</th>\n",
       "    </tr>\n",
       "  </thead>\n",
       "  <tbody>\n",
       "    <tr>\n",
       "      <th>2</th>\n",
       "      <td>POSITIVE</td>\n",
       "      <td>50</td>\n",
       "    </tr>\n",
       "    <tr>\n",
       "      <th>1</th>\n",
       "      <td>NEGATIVE</td>\n",
       "      <td>125</td>\n",
       "    </tr>\n",
       "    <tr>\n",
       "      <th>0</th>\n",
       "      <td>NEUTRO</td>\n",
       "      <td>315</td>\n",
       "    </tr>\n",
       "  </tbody>\n",
       "</table>\n",
       "</div>"
      ],
      "text/plain": [
       "  tipo_sent  cnt\n",
       "2  POSITIVE   50\n",
       "1  NEGATIVE  125\n",
       "0    NEUTRO  315"
      ]
     },
     "execution_count": 22,
     "metadata": {},
     "output_type": "execute_result"
    }
   ],
   "source": [
    "Cant_Tipo = pd.DataFrame(data.tipo_sent.value_counts()).reset_index()\n",
    "Cant_Tipo.columns = ['tipo_sent', 'cnt']\n",
    "Cant_Tipo = Cant_Tipo.sort_values('cnt')\n",
    "Cant_Tipo"
   ]
  },
  {
   "cell_type": "markdown",
   "metadata": {
    "slideshow": {
     "slide_type": "skip"
    }
   },
   "source": [
    "## Ejemplo de Tweet"
   ]
  },
  {
   "cell_type": "code",
   "execution_count": 23,
   "metadata": {
    "slideshow": {
     "slide_type": "skip"
    }
   },
   "outputs": [
    {
     "data": {
      "text/plain": [
       "texto_limpio    🚨 La vacunación de privados comenzaría el 15 d...\n",
       "puntaje                                                    0.8402\n",
       "dtype: object"
      ]
     },
     "execution_count": 23,
     "metadata": {},
     "output_type": "execute_result"
    }
   ],
   "source": [
    "data[['texto_limpio','puntaje']].max()"
   ]
  },
  {
   "cell_type": "code",
   "execution_count": 24,
   "metadata": {
    "slideshow": {
     "slide_type": "skip"
    }
   },
   "outputs": [
    {
     "data": {
      "text/plain": [
       "texto_limpio    \\n\\nUna ciudad ubicada en Sao Paulo, Brasil, i...\n",
       "puntaje                                                   -0.8957\n",
       "dtype: object"
      ]
     },
     "execution_count": 24,
     "metadata": {},
     "output_type": "execute_result"
    }
   ],
   "source": [
    "data[['texto_limpio','puntaje']].min()"
   ]
  },
  {
   "cell_type": "markdown",
   "metadata": {
    "slideshow": {
     "slide_type": "slide"
    }
   },
   "source": [
    "## Tweet más negativos  (SINOVAC)"
   ]
  },
  {
   "cell_type": "code",
   "execution_count": 26,
   "metadata": {
    "slideshow": {
     "slide_type": "slide"
    }
   },
   "outputs": [
    {
     "data": {
      "text/html": [
       "<div>\n",
       "<style scoped>\n",
       "    .dataframe tbody tr th:only-of-type {\n",
       "        vertical-align: middle;\n",
       "    }\n",
       "\n",
       "    .dataframe tbody tr th {\n",
       "        vertical-align: top;\n",
       "    }\n",
       "\n",
       "    .dataframe thead th {\n",
       "        text-align: right;\n",
       "    }\n",
       "</style>\n",
       "<table border=\"1\" class=\"dataframe\">\n",
       "  <thead>\n",
       "    <tr style=\"text-align: right;\">\n",
       "      <th></th>\n",
       "      <th>texto_limpio</th>\n",
       "      <th>puntaje_sent</th>\n",
       "      <th>emojis</th>\n",
       "    </tr>\n",
       "  </thead>\n",
       "  <tbody>\n",
       "    <tr>\n",
       "      <th>340</th>\n",
       "      <td>Le entiendo. La semana pasada una conocida m...</td>\n",
       "      <td>-0.8957</td>\n",
       "      <td>[😭, 😭]</td>\n",
       "    </tr>\n",
       "    <tr>\n",
       "      <th>352</th>\n",
       "      <td>Yo no acabo de entender  Una persona cercana d...</td>\n",
       "      <td>-0.8807</td>\n",
       "      <td>[😟, 😟, 😟]</td>\n",
       "    </tr>\n",
       "    <tr>\n",
       "      <th>137</th>\n",
       "      <td>No hay ni para el personal de salud ? No hay ...</td>\n",
       "      <td>-0.8738</td>\n",
       "      <td>[]</td>\n",
       "    </tr>\n",
       "    <tr>\n",
       "      <th>14</th>\n",
       "      <td>ABSOLUTAMENTE sin duda alguna, a mi Sinovac y...</td>\n",
       "      <td>-0.8692</td>\n",
       "      <td>[]</td>\n",
       "    </tr>\n",
       "    <tr>\n",
       "      <th>345</th>\n",
       "      <td>Pero que necesidaaaaa de decir que Sinovac e...</td>\n",
       "      <td>-0.8689</td>\n",
       "      <td>[😭, 😭]</td>\n",
       "    </tr>\n",
       "    <tr>\n",
       "      <th>...</th>\n",
       "      <td>...</td>\n",
       "      <td>...</td>\n",
       "      <td>...</td>\n",
       "    </tr>\n",
       "    <tr>\n",
       "      <th>337</th>\n",
       "      <td>La vacuna me ocasiono 2 dias de mucho sueño ca...</td>\n",
       "      <td>0.7351</td>\n",
       "      <td>[🤭, 💉, 😎]</td>\n",
       "    </tr>\n",
       "    <tr>\n",
       "      <th>178</th>\n",
       "      <td>La vacuna de Sinovac es excelente! \\nA los adu...</td>\n",
       "      <td>0.8122</td>\n",
       "      <td>[]</td>\n",
       "    </tr>\n",
       "    <tr>\n",
       "      <th>321</th>\n",
       "      <td>Excelente.     Mi papá 71,  Sinovac dos dosis...</td>\n",
       "      <td>0.8213</td>\n",
       "      <td>[🙂, 👌, ⭐, ⭐, ⭐, ⭐, ⭐]</td>\n",
       "    </tr>\n",
       "    <tr>\n",
       "      <th>426</th>\n",
       "      <td>Vacunaron a mis papás (sinovac) ☺️☺️☺️</td>\n",
       "      <td>0.8402</td>\n",
       "      <td>[☺️, ☺️, ☺️]</td>\n",
       "    </tr>\n",
       "    <tr>\n",
       "      <th>378</th>\n",
       "      <td>Ayer fue jornada de vacunación masiva en Colom...</td>\n",
       "      <td>0.8402</td>\n",
       "      <td>[😁, 😁, 😁]</td>\n",
       "    </tr>\n",
       "  </tbody>\n",
       "</table>\n",
       "<p>490 rows × 3 columns</p>\n",
       "</div>"
      ],
      "text/plain": [
       "                                          texto_limpio  puntaje_sent  \\\n",
       "340    Le entiendo. La semana pasada una conocida m...       -0.8957   \n",
       "352  Yo no acabo de entender  Una persona cercana d...       -0.8807   \n",
       "137   No hay ni para el personal de salud ? No hay ...       -0.8738   \n",
       "14    ABSOLUTAMENTE sin duda alguna, a mi Sinovac y...       -0.8692   \n",
       "345    Pero que necesidaaaaa de decir que Sinovac e...       -0.8689   \n",
       "..                                                 ...           ...   \n",
       "337  La vacuna me ocasiono 2 dias de mucho sueño ca...        0.7351   \n",
       "178  La vacuna de Sinovac es excelente! \\nA los adu...        0.8122   \n",
       "321   Excelente.     Mi papá 71,  Sinovac dos dosis...        0.8213   \n",
       "426             Vacunaron a mis papás (sinovac) ☺️☺️☺️        0.8402   \n",
       "378  Ayer fue jornada de vacunación masiva en Colom...        0.8402   \n",
       "\n",
       "                    emojis  \n",
       "340                 [😭, 😭]  \n",
       "352              [😟, 😟, 😟]  \n",
       "137                     []  \n",
       "14                      []  \n",
       "345                 [😭, 😭]  \n",
       "..                     ...  \n",
       "337              [🤭, 💉, 😎]  \n",
       "178                     []  \n",
       "321  [🙂, 👌, ⭐, ⭐, ⭐, ⭐, ⭐]  \n",
       "426           [☺️, ☺️, ☺️]  \n",
       "378              [😁, 😁, 😁]  \n",
       "\n",
       "[490 rows x 3 columns]"
      ]
     },
     "execution_count": 26,
     "metadata": {},
     "output_type": "execute_result"
    }
   ],
   "source": [
    "data[['texto_limpio','puntaje_sent','emojis']].sort_values('puntaje_sent',ascending=True)"
   ]
  },
  {
   "cell_type": "code",
   "execution_count": 27,
   "metadata": {
    "slideshow": {
     "slide_type": "slide"
    }
   },
   "outputs": [
    {
     "data": {
      "text/plain": [
       "'@ConsueCorrales @davidbautistaqf Le entiendo. La semana pasada una conocida me dijo que no se iba a vacunar porque no era Pfizer sino Astra Zéneca y Sinovac las disponibles😭 la peor vacuna es la que no se pone, yo queriéndome vacunar yaaaaaa😭'"
      ]
     },
     "execution_count": 27,
     "metadata": {},
     "output_type": "execute_result"
    }
   ],
   "source": [
    "t[340].full_text"
   ]
  },
  {
   "cell_type": "markdown",
   "metadata": {
    "slideshow": {
     "slide_type": "slide"
    }
   },
   "source": [
    "## Tweet más positivos   (SINOVAC)"
   ]
  },
  {
   "cell_type": "code",
   "execution_count": 28,
   "metadata": {
    "slideshow": {
     "slide_type": "slide"
    }
   },
   "outputs": [
    {
     "data": {
      "text/html": [
       "<div>\n",
       "<style scoped>\n",
       "    .dataframe tbody tr th:only-of-type {\n",
       "        vertical-align: middle;\n",
       "    }\n",
       "\n",
       "    .dataframe tbody tr th {\n",
       "        vertical-align: top;\n",
       "    }\n",
       "\n",
       "    .dataframe thead th {\n",
       "        text-align: right;\n",
       "    }\n",
       "</style>\n",
       "<table border=\"1\" class=\"dataframe\">\n",
       "  <thead>\n",
       "    <tr style=\"text-align: right;\">\n",
       "      <th></th>\n",
       "      <th>texto_limpio</th>\n",
       "      <th>puntaje_sent</th>\n",
       "      <th>emojis</th>\n",
       "    </tr>\n",
       "  </thead>\n",
       "  <tbody>\n",
       "    <tr>\n",
       "      <th>378</th>\n",
       "      <td>Ayer fue jornada de vacunación masiva en Colom...</td>\n",
       "      <td>0.8402</td>\n",
       "      <td>[😁, 😁, 😁]</td>\n",
       "    </tr>\n",
       "    <tr>\n",
       "      <th>426</th>\n",
       "      <td>Vacunaron a mis papás (sinovac) ☺️☺️☺️</td>\n",
       "      <td>0.8402</td>\n",
       "      <td>[☺️, ☺️, ☺️]</td>\n",
       "    </tr>\n",
       "    <tr>\n",
       "      <th>321</th>\n",
       "      <td>Excelente.     Mi papá 71,  Sinovac dos dosis...</td>\n",
       "      <td>0.8213</td>\n",
       "      <td>[🙂, 👌, ⭐, ⭐, ⭐, ⭐, ⭐]</td>\n",
       "    </tr>\n",
       "    <tr>\n",
       "      <th>178</th>\n",
       "      <td>La vacuna de Sinovac es excelente! \\nA los adu...</td>\n",
       "      <td>0.8122</td>\n",
       "      <td>[]</td>\n",
       "    </tr>\n",
       "    <tr>\n",
       "      <th>337</th>\n",
       "      <td>La vacuna me ocasiono 2 dias de mucho sueño ca...</td>\n",
       "      <td>0.7351</td>\n",
       "      <td>[🤭, 💉, 😎]</td>\n",
       "    </tr>\n",
       "    <tr>\n",
       "      <th>...</th>\n",
       "      <td>...</td>\n",
       "      <td>...</td>\n",
       "      <td>...</td>\n",
       "    </tr>\n",
       "    <tr>\n",
       "      <th>345</th>\n",
       "      <td>Pero que necesidaaaaa de decir que Sinovac e...</td>\n",
       "      <td>-0.8689</td>\n",
       "      <td>[😭, 😭]</td>\n",
       "    </tr>\n",
       "    <tr>\n",
       "      <th>14</th>\n",
       "      <td>ABSOLUTAMENTE sin duda alguna, a mi Sinovac y...</td>\n",
       "      <td>-0.8692</td>\n",
       "      <td>[]</td>\n",
       "    </tr>\n",
       "    <tr>\n",
       "      <th>137</th>\n",
       "      <td>No hay ni para el personal de salud ? No hay ...</td>\n",
       "      <td>-0.8738</td>\n",
       "      <td>[]</td>\n",
       "    </tr>\n",
       "    <tr>\n",
       "      <th>352</th>\n",
       "      <td>Yo no acabo de entender  Una persona cercana d...</td>\n",
       "      <td>-0.8807</td>\n",
       "      <td>[😟, 😟, 😟]</td>\n",
       "    </tr>\n",
       "    <tr>\n",
       "      <th>340</th>\n",
       "      <td>Le entiendo. La semana pasada una conocida m...</td>\n",
       "      <td>-0.8957</td>\n",
       "      <td>[😭, 😭]</td>\n",
       "    </tr>\n",
       "  </tbody>\n",
       "</table>\n",
       "<p>490 rows × 3 columns</p>\n",
       "</div>"
      ],
      "text/plain": [
       "                                          texto_limpio  puntaje_sent  \\\n",
       "378  Ayer fue jornada de vacunación masiva en Colom...        0.8402   \n",
       "426             Vacunaron a mis papás (sinovac) ☺️☺️☺️        0.8402   \n",
       "321   Excelente.     Mi papá 71,  Sinovac dos dosis...        0.8213   \n",
       "178  La vacuna de Sinovac es excelente! \\nA los adu...        0.8122   \n",
       "337  La vacuna me ocasiono 2 dias de mucho sueño ca...        0.7351   \n",
       "..                                                 ...           ...   \n",
       "345    Pero que necesidaaaaa de decir que Sinovac e...       -0.8689   \n",
       "14    ABSOLUTAMENTE sin duda alguna, a mi Sinovac y...       -0.8692   \n",
       "137   No hay ni para el personal de salud ? No hay ...       -0.8738   \n",
       "352  Yo no acabo de entender  Una persona cercana d...       -0.8807   \n",
       "340    Le entiendo. La semana pasada una conocida m...       -0.8957   \n",
       "\n",
       "                    emojis  \n",
       "378              [😁, 😁, 😁]  \n",
       "426           [☺️, ☺️, ☺️]  \n",
       "321  [🙂, 👌, ⭐, ⭐, ⭐, ⭐, ⭐]  \n",
       "178                     []  \n",
       "337              [🤭, 💉, 😎]  \n",
       "..                     ...  \n",
       "345                 [😭, 😭]  \n",
       "14                      []  \n",
       "137                     []  \n",
       "352              [😟, 😟, 😟]  \n",
       "340                 [😭, 😭]  \n",
       "\n",
       "[490 rows x 3 columns]"
      ]
     },
     "execution_count": 28,
     "metadata": {},
     "output_type": "execute_result"
    }
   ],
   "source": [
    "\n",
    "data[['texto_limpio','puntaje_sent','emojis']].sort_values('puntaje_sent',ascending=False)"
   ]
  },
  {
   "cell_type": "code",
   "execution_count": 29,
   "metadata": {
    "slideshow": {
     "slide_type": "slide"
    }
   },
   "outputs": [
    {
     "data": {
      "text/plain": [
       "'Ayer fue jornada de vacunación masiva en Colombia, hice fila con mamá 4 horas esperando por la vacuna para ella.\\n\\nLes cuento que le aplicaron la #Sinovac y ya está agendada para la segunda dosis. Que alegría tan hpta.😁😁😁'"
      ]
     },
     "execution_count": 29,
     "metadata": {},
     "output_type": "execute_result"
    }
   ],
   "source": [
    "t[378].full_text"
   ]
  },
  {
   "cell_type": "markdown",
   "metadata": {
    "slideshow": {
     "slide_type": "slide"
    }
   },
   "source": [
    "## Visualizaciones 😊"
   ]
  },
  {
   "cell_type": "code",
   "execution_count": 33,
   "metadata": {
    "slideshow": {
     "slide_type": "skip"
    }
   },
   "outputs": [],
   "source": [
    "import plotly.io as pio\n",
    "import plotly.express as px\n",
    "import plotly.graph_objs as go\n",
    "from plotly.offline import download_plotlyjs, init_notebook_mode, plot, iplot"
   ]
  },
  {
   "cell_type": "code",
   "execution_count": 34,
   "metadata": {
    "slideshow": {
     "slide_type": "skip"
    }
   },
   "outputs": [
    {
     "data": {
      "text/html": [
       "        <script type=\"text/javascript\">\n",
       "        window.PlotlyConfig = {MathJaxConfig: 'local'};\n",
       "        if (window.MathJax) {MathJax.Hub.Config({SVG: {font: \"STIX-Web\"}});}\n",
       "        if (typeof require !== 'undefined') {\n",
       "        require.undef(\"plotly\");\n",
       "        requirejs.config({\n",
       "            paths: {\n",
       "                'plotly': ['https://cdn.plot.ly/plotly-latest.min']\n",
       "            }\n",
       "        });\n",
       "        require(['plotly'], function(Plotly) {\n",
       "            window._Plotly = Plotly;\n",
       "        });\n",
       "        }\n",
       "        </script>\n",
       "        "
      ]
     },
     "metadata": {},
     "output_type": "display_data"
    }
   ],
   "source": [
    "import matplotlib.pyplot as plt\n",
    "%matplotlib inline\n",
    "init_notebook_mode(connected=True)"
   ]
  },
  {
   "cell_type": "code",
   "execution_count": 35,
   "metadata": {
    "slideshow": {
     "slide_type": "slide"
    }
   },
   "outputs": [
    {
     "data": {
      "text/html": [
       "<div>\n",
       "<style scoped>\n",
       "    .dataframe tbody tr th:only-of-type {\n",
       "        vertical-align: middle;\n",
       "    }\n",
       "\n",
       "    .dataframe tbody tr th {\n",
       "        vertical-align: top;\n",
       "    }\n",
       "\n",
       "    .dataframe thead th {\n",
       "        text-align: right;\n",
       "    }\n",
       "</style>\n",
       "<table border=\"1\" class=\"dataframe\">\n",
       "  <thead>\n",
       "    <tr style=\"text-align: right;\">\n",
       "      <th></th>\n",
       "      <th>emoji</th>\n",
       "      <th>cnt</th>\n",
       "    </tr>\n",
       "  </thead>\n",
       "  <tbody>\n",
       "    <tr>\n",
       "      <th>1</th>\n",
       "      <td>💉</td>\n",
       "      <td>30</td>\n",
       "    </tr>\n",
       "    <tr>\n",
       "      <th>10</th>\n",
       "      <td>➡️</td>\n",
       "      <td>17</td>\n",
       "    </tr>\n",
       "    <tr>\n",
       "      <th>31</th>\n",
       "      <td>👉</td>\n",
       "      <td>8</td>\n",
       "    </tr>\n",
       "    <tr>\n",
       "      <th>42</th>\n",
       "      <td>✅</td>\n",
       "      <td>6</td>\n",
       "    </tr>\n",
       "    <tr>\n",
       "      <th>47</th>\n",
       "      <td>😭</td>\n",
       "      <td>5</td>\n",
       "    </tr>\n",
       "  </tbody>\n",
       "</table>\n",
       "</div>"
      ],
      "text/plain": [
       "   emoji  cnt\n",
       "1      💉   30\n",
       "10    ➡️   17\n",
       "31     👉    8\n",
       "42     ✅    6\n",
       "47     😭    5"
      ]
     },
     "execution_count": 35,
     "metadata": {},
     "output_type": "execute_result"
    }
   ],
   "source": [
    "from collections import Counter\n",
    "\n",
    "temp_emojis = pd.DataFrame(list(zip(Counter(sum(data.emojis.values,[])).keys(),Counter(sum(data.emojis.values,[])).values())))\n",
    "temp_emojis.columns = ['emoji', 'cnt']\n",
    "temp_emojis.sort_values('cnt', ascending=False, inplace=True)\n",
    "temp_emojis.head()"
   ]
  },
  {
   "cell_type": "code",
   "execution_count": 36,
   "metadata": {
    "slideshow": {
     "slide_type": "skip"
    }
   },
   "outputs": [],
   "source": [
    "trace = go.Bar(x=temp_emojis.emoji.values[:15],\n",
    "               y=temp_emojis.cnt.values[:15])\n",
    "layout = go.Layout(title='Emojis más usados')"
   ]
  },
  {
   "cell_type": "code",
   "execution_count": 37,
   "metadata": {
    "slideshow": {
     "slide_type": "slide"
    }
   },
   "outputs": [
    {
     "data": {
      "application/vnd.plotly.v1+json": {
       "config": {
        "linkText": "Export to plot.ly",
        "plotlyServerURL": "https://plot.ly",
        "showLink": false
       },
       "data": [
        {
         "type": "bar",
         "x": [
          "💉",
          "➡️",
          "👉",
          "✅",
          "😭",
          "⭐",
          "👇",
          "⬇️",
          "🤔",
          "🙏🏼",
          "🙏",
          "😟",
          "🦠",
          "☺️",
          "🙏🏻"
         ],
         "y": [
          30,
          17,
          8,
          6,
          5,
          5,
          4,
          4,
          4,
          3,
          3,
          3,
          3,
          3,
          3
         ]
        }
       ],
       "layout": {
        "template": {
         "data": {
          "bar": [
           {
            "error_x": {
             "color": "#2a3f5f"
            },
            "error_y": {
             "color": "#2a3f5f"
            },
            "marker": {
             "line": {
              "color": "#E5ECF6",
              "width": 0.5
             }
            },
            "type": "bar"
           }
          ],
          "barpolar": [
           {
            "marker": {
             "line": {
              "color": "#E5ECF6",
              "width": 0.5
             }
            },
            "type": "barpolar"
           }
          ],
          "carpet": [
           {
            "aaxis": {
             "endlinecolor": "#2a3f5f",
             "gridcolor": "white",
             "linecolor": "white",
             "minorgridcolor": "white",
             "startlinecolor": "#2a3f5f"
            },
            "baxis": {
             "endlinecolor": "#2a3f5f",
             "gridcolor": "white",
             "linecolor": "white",
             "minorgridcolor": "white",
             "startlinecolor": "#2a3f5f"
            },
            "type": "carpet"
           }
          ],
          "choropleth": [
           {
            "colorbar": {
             "outlinewidth": 0,
             "ticks": ""
            },
            "type": "choropleth"
           }
          ],
          "contour": [
           {
            "colorbar": {
             "outlinewidth": 0,
             "ticks": ""
            },
            "colorscale": [
             [
              0,
              "#0d0887"
             ],
             [
              0.1111111111111111,
              "#46039f"
             ],
             [
              0.2222222222222222,
              "#7201a8"
             ],
             [
              0.3333333333333333,
              "#9c179e"
             ],
             [
              0.4444444444444444,
              "#bd3786"
             ],
             [
              0.5555555555555556,
              "#d8576b"
             ],
             [
              0.6666666666666666,
              "#ed7953"
             ],
             [
              0.7777777777777778,
              "#fb9f3a"
             ],
             [
              0.8888888888888888,
              "#fdca26"
             ],
             [
              1,
              "#f0f921"
             ]
            ],
            "type": "contour"
           }
          ],
          "contourcarpet": [
           {
            "colorbar": {
             "outlinewidth": 0,
             "ticks": ""
            },
            "type": "contourcarpet"
           }
          ],
          "heatmap": [
           {
            "colorbar": {
             "outlinewidth": 0,
             "ticks": ""
            },
            "colorscale": [
             [
              0,
              "#0d0887"
             ],
             [
              0.1111111111111111,
              "#46039f"
             ],
             [
              0.2222222222222222,
              "#7201a8"
             ],
             [
              0.3333333333333333,
              "#9c179e"
             ],
             [
              0.4444444444444444,
              "#bd3786"
             ],
             [
              0.5555555555555556,
              "#d8576b"
             ],
             [
              0.6666666666666666,
              "#ed7953"
             ],
             [
              0.7777777777777778,
              "#fb9f3a"
             ],
             [
              0.8888888888888888,
              "#fdca26"
             ],
             [
              1,
              "#f0f921"
             ]
            ],
            "type": "heatmap"
           }
          ],
          "heatmapgl": [
           {
            "colorbar": {
             "outlinewidth": 0,
             "ticks": ""
            },
            "colorscale": [
             [
              0,
              "#0d0887"
             ],
             [
              0.1111111111111111,
              "#46039f"
             ],
             [
              0.2222222222222222,
              "#7201a8"
             ],
             [
              0.3333333333333333,
              "#9c179e"
             ],
             [
              0.4444444444444444,
              "#bd3786"
             ],
             [
              0.5555555555555556,
              "#d8576b"
             ],
             [
              0.6666666666666666,
              "#ed7953"
             ],
             [
              0.7777777777777778,
              "#fb9f3a"
             ],
             [
              0.8888888888888888,
              "#fdca26"
             ],
             [
              1,
              "#f0f921"
             ]
            ],
            "type": "heatmapgl"
           }
          ],
          "histogram": [
           {
            "marker": {
             "colorbar": {
              "outlinewidth": 0,
              "ticks": ""
             }
            },
            "type": "histogram"
           }
          ],
          "histogram2d": [
           {
            "colorbar": {
             "outlinewidth": 0,
             "ticks": ""
            },
            "colorscale": [
             [
              0,
              "#0d0887"
             ],
             [
              0.1111111111111111,
              "#46039f"
             ],
             [
              0.2222222222222222,
              "#7201a8"
             ],
             [
              0.3333333333333333,
              "#9c179e"
             ],
             [
              0.4444444444444444,
              "#bd3786"
             ],
             [
              0.5555555555555556,
              "#d8576b"
             ],
             [
              0.6666666666666666,
              "#ed7953"
             ],
             [
              0.7777777777777778,
              "#fb9f3a"
             ],
             [
              0.8888888888888888,
              "#fdca26"
             ],
             [
              1,
              "#f0f921"
             ]
            ],
            "type": "histogram2d"
           }
          ],
          "histogram2dcontour": [
           {
            "colorbar": {
             "outlinewidth": 0,
             "ticks": ""
            },
            "colorscale": [
             [
              0,
              "#0d0887"
             ],
             [
              0.1111111111111111,
              "#46039f"
             ],
             [
              0.2222222222222222,
              "#7201a8"
             ],
             [
              0.3333333333333333,
              "#9c179e"
             ],
             [
              0.4444444444444444,
              "#bd3786"
             ],
             [
              0.5555555555555556,
              "#d8576b"
             ],
             [
              0.6666666666666666,
              "#ed7953"
             ],
             [
              0.7777777777777778,
              "#fb9f3a"
             ],
             [
              0.8888888888888888,
              "#fdca26"
             ],
             [
              1,
              "#f0f921"
             ]
            ],
            "type": "histogram2dcontour"
           }
          ],
          "mesh3d": [
           {
            "colorbar": {
             "outlinewidth": 0,
             "ticks": ""
            },
            "type": "mesh3d"
           }
          ],
          "parcoords": [
           {
            "line": {
             "colorbar": {
              "outlinewidth": 0,
              "ticks": ""
             }
            },
            "type": "parcoords"
           }
          ],
          "pie": [
           {
            "automargin": true,
            "type": "pie"
           }
          ],
          "scatter": [
           {
            "marker": {
             "colorbar": {
              "outlinewidth": 0,
              "ticks": ""
             }
            },
            "type": "scatter"
           }
          ],
          "scatter3d": [
           {
            "line": {
             "colorbar": {
              "outlinewidth": 0,
              "ticks": ""
             }
            },
            "marker": {
             "colorbar": {
              "outlinewidth": 0,
              "ticks": ""
             }
            },
            "type": "scatter3d"
           }
          ],
          "scattercarpet": [
           {
            "marker": {
             "colorbar": {
              "outlinewidth": 0,
              "ticks": ""
             }
            },
            "type": "scattercarpet"
           }
          ],
          "scattergeo": [
           {
            "marker": {
             "colorbar": {
              "outlinewidth": 0,
              "ticks": ""
             }
            },
            "type": "scattergeo"
           }
          ],
          "scattergl": [
           {
            "marker": {
             "colorbar": {
              "outlinewidth": 0,
              "ticks": ""
             }
            },
            "type": "scattergl"
           }
          ],
          "scattermapbox": [
           {
            "marker": {
             "colorbar": {
              "outlinewidth": 0,
              "ticks": ""
             }
            },
            "type": "scattermapbox"
           }
          ],
          "scatterpolar": [
           {
            "marker": {
             "colorbar": {
              "outlinewidth": 0,
              "ticks": ""
             }
            },
            "type": "scatterpolar"
           }
          ],
          "scatterpolargl": [
           {
            "marker": {
             "colorbar": {
              "outlinewidth": 0,
              "ticks": ""
             }
            },
            "type": "scatterpolargl"
           }
          ],
          "scatterternary": [
           {
            "marker": {
             "colorbar": {
              "outlinewidth": 0,
              "ticks": ""
             }
            },
            "type": "scatterternary"
           }
          ],
          "surface": [
           {
            "colorbar": {
             "outlinewidth": 0,
             "ticks": ""
            },
            "colorscale": [
             [
              0,
              "#0d0887"
             ],
             [
              0.1111111111111111,
              "#46039f"
             ],
             [
              0.2222222222222222,
              "#7201a8"
             ],
             [
              0.3333333333333333,
              "#9c179e"
             ],
             [
              0.4444444444444444,
              "#bd3786"
             ],
             [
              0.5555555555555556,
              "#d8576b"
             ],
             [
              0.6666666666666666,
              "#ed7953"
             ],
             [
              0.7777777777777778,
              "#fb9f3a"
             ],
             [
              0.8888888888888888,
              "#fdca26"
             ],
             [
              1,
              "#f0f921"
             ]
            ],
            "type": "surface"
           }
          ],
          "table": [
           {
            "cells": {
             "fill": {
              "color": "#EBF0F8"
             },
             "line": {
              "color": "white"
             }
            },
            "header": {
             "fill": {
              "color": "#C8D4E3"
             },
             "line": {
              "color": "white"
             }
            },
            "type": "table"
           }
          ]
         },
         "layout": {
          "annotationdefaults": {
           "arrowcolor": "#2a3f5f",
           "arrowhead": 0,
           "arrowwidth": 1
          },
          "autotypenumbers": "strict",
          "coloraxis": {
           "colorbar": {
            "outlinewidth": 0,
            "ticks": ""
           }
          },
          "colorscale": {
           "diverging": [
            [
             0,
             "#8e0152"
            ],
            [
             0.1,
             "#c51b7d"
            ],
            [
             0.2,
             "#de77ae"
            ],
            [
             0.3,
             "#f1b6da"
            ],
            [
             0.4,
             "#fde0ef"
            ],
            [
             0.5,
             "#f7f7f7"
            ],
            [
             0.6,
             "#e6f5d0"
            ],
            [
             0.7,
             "#b8e186"
            ],
            [
             0.8,
             "#7fbc41"
            ],
            [
             0.9,
             "#4d9221"
            ],
            [
             1,
             "#276419"
            ]
           ],
           "sequential": [
            [
             0,
             "#0d0887"
            ],
            [
             0.1111111111111111,
             "#46039f"
            ],
            [
             0.2222222222222222,
             "#7201a8"
            ],
            [
             0.3333333333333333,
             "#9c179e"
            ],
            [
             0.4444444444444444,
             "#bd3786"
            ],
            [
             0.5555555555555556,
             "#d8576b"
            ],
            [
             0.6666666666666666,
             "#ed7953"
            ],
            [
             0.7777777777777778,
             "#fb9f3a"
            ],
            [
             0.8888888888888888,
             "#fdca26"
            ],
            [
             1,
             "#f0f921"
            ]
           ],
           "sequentialminus": [
            [
             0,
             "#0d0887"
            ],
            [
             0.1111111111111111,
             "#46039f"
            ],
            [
             0.2222222222222222,
             "#7201a8"
            ],
            [
             0.3333333333333333,
             "#9c179e"
            ],
            [
             0.4444444444444444,
             "#bd3786"
            ],
            [
             0.5555555555555556,
             "#d8576b"
            ],
            [
             0.6666666666666666,
             "#ed7953"
            ],
            [
             0.7777777777777778,
             "#fb9f3a"
            ],
            [
             0.8888888888888888,
             "#fdca26"
            ],
            [
             1,
             "#f0f921"
            ]
           ]
          },
          "colorway": [
           "#636efa",
           "#EF553B",
           "#00cc96",
           "#ab63fa",
           "#FFA15A",
           "#19d3f3",
           "#FF6692",
           "#B6E880",
           "#FF97FF",
           "#FECB52"
          ],
          "font": {
           "color": "#2a3f5f"
          },
          "geo": {
           "bgcolor": "white",
           "lakecolor": "white",
           "landcolor": "#E5ECF6",
           "showlakes": true,
           "showland": true,
           "subunitcolor": "white"
          },
          "hoverlabel": {
           "align": "left"
          },
          "hovermode": "closest",
          "mapbox": {
           "style": "light"
          },
          "paper_bgcolor": "white",
          "plot_bgcolor": "#E5ECF6",
          "polar": {
           "angularaxis": {
            "gridcolor": "white",
            "linecolor": "white",
            "ticks": ""
           },
           "bgcolor": "#E5ECF6",
           "radialaxis": {
            "gridcolor": "white",
            "linecolor": "white",
            "ticks": ""
           }
          },
          "scene": {
           "xaxis": {
            "backgroundcolor": "#E5ECF6",
            "gridcolor": "white",
            "gridwidth": 2,
            "linecolor": "white",
            "showbackground": true,
            "ticks": "",
            "zerolinecolor": "white"
           },
           "yaxis": {
            "backgroundcolor": "#E5ECF6",
            "gridcolor": "white",
            "gridwidth": 2,
            "linecolor": "white",
            "showbackground": true,
            "ticks": "",
            "zerolinecolor": "white"
           },
           "zaxis": {
            "backgroundcolor": "#E5ECF6",
            "gridcolor": "white",
            "gridwidth": 2,
            "linecolor": "white",
            "showbackground": true,
            "ticks": "",
            "zerolinecolor": "white"
           }
          },
          "shapedefaults": {
           "line": {
            "color": "#2a3f5f"
           }
          },
          "ternary": {
           "aaxis": {
            "gridcolor": "white",
            "linecolor": "white",
            "ticks": ""
           },
           "baxis": {
            "gridcolor": "white",
            "linecolor": "white",
            "ticks": ""
           },
           "bgcolor": "#E5ECF6",
           "caxis": {
            "gridcolor": "white",
            "linecolor": "white",
            "ticks": ""
           }
          },
          "title": {
           "x": 0.05
          },
          "xaxis": {
           "automargin": true,
           "gridcolor": "white",
           "linecolor": "white",
           "ticks": "",
           "title": {
            "standoff": 15
           },
           "zerolinecolor": "white",
           "zerolinewidth": 2
          },
          "yaxis": {
           "automargin": true,
           "gridcolor": "white",
           "linecolor": "white",
           "ticks": "",
           "title": {
            "standoff": 15
           },
           "zerolinecolor": "white",
           "zerolinewidth": 2
          }
         }
        },
        "title": {
         "text": "Emojis más usados"
        }
       }
      },
      "text/html": [
       "<div>                            <div id=\"3163f44b-47f3-43fd-8c1f-c36d811c27ed\" class=\"plotly-graph-div\" style=\"height:525px; width:100%;\"></div>            <script type=\"text/javascript\">                require([\"plotly\"], function(Plotly) {                    window.PLOTLYENV=window.PLOTLYENV || {};                                    if (document.getElementById(\"3163f44b-47f3-43fd-8c1f-c36d811c27ed\")) {                    Plotly.newPlot(                        \"3163f44b-47f3-43fd-8c1f-c36d811c27ed\",                        [{\"type\": \"bar\", \"x\": [\"\\ud83d\\udc89\", \"\\u27a1\\ufe0f\", \"\\ud83d\\udc49\", \"\\u2705\", \"\\ud83d\\ude2d\", \"\\u2b50\", \"\\ud83d\\udc47\", \"\\u2b07\\ufe0f\", \"\\ud83e\\udd14\", \"\\ud83d\\ude4f\\ud83c\\udffc\", \"\\ud83d\\ude4f\", \"\\ud83d\\ude1f\", \"\\ud83e\\udda0\", \"\\u263a\\ufe0f\", \"\\ud83d\\ude4f\\ud83c\\udffb\"], \"y\": [30, 17, 8, 6, 5, 5, 4, 4, 4, 3, 3, 3, 3, 3, 3]}],                        {\"template\": {\"data\": {\"bar\": [{\"error_x\": {\"color\": \"#2a3f5f\"}, \"error_y\": {\"color\": \"#2a3f5f\"}, \"marker\": {\"line\": {\"color\": \"#E5ECF6\", \"width\": 0.5}}, \"type\": \"bar\"}], \"barpolar\": [{\"marker\": {\"line\": {\"color\": \"#E5ECF6\", \"width\": 0.5}}, \"type\": \"barpolar\"}], \"carpet\": [{\"aaxis\": {\"endlinecolor\": \"#2a3f5f\", \"gridcolor\": \"white\", \"linecolor\": \"white\", \"minorgridcolor\": \"white\", \"startlinecolor\": \"#2a3f5f\"}, \"baxis\": {\"endlinecolor\": \"#2a3f5f\", \"gridcolor\": \"white\", \"linecolor\": \"white\", \"minorgridcolor\": \"white\", \"startlinecolor\": \"#2a3f5f\"}, \"type\": \"carpet\"}], \"choropleth\": [{\"colorbar\": {\"outlinewidth\": 0, \"ticks\": \"\"}, \"type\": \"choropleth\"}], \"contour\": [{\"colorbar\": {\"outlinewidth\": 0, \"ticks\": \"\"}, \"colorscale\": [[0.0, \"#0d0887\"], [0.1111111111111111, \"#46039f\"], [0.2222222222222222, \"#7201a8\"], [0.3333333333333333, \"#9c179e\"], [0.4444444444444444, \"#bd3786\"], [0.5555555555555556, \"#d8576b\"], [0.6666666666666666, \"#ed7953\"], [0.7777777777777778, \"#fb9f3a\"], [0.8888888888888888, \"#fdca26\"], [1.0, \"#f0f921\"]], \"type\": \"contour\"}], \"contourcarpet\": [{\"colorbar\": {\"outlinewidth\": 0, \"ticks\": \"\"}, \"type\": \"contourcarpet\"}], \"heatmap\": [{\"colorbar\": {\"outlinewidth\": 0, \"ticks\": \"\"}, \"colorscale\": [[0.0, \"#0d0887\"], [0.1111111111111111, \"#46039f\"], [0.2222222222222222, \"#7201a8\"], [0.3333333333333333, \"#9c179e\"], [0.4444444444444444, \"#bd3786\"], [0.5555555555555556, \"#d8576b\"], [0.6666666666666666, \"#ed7953\"], [0.7777777777777778, \"#fb9f3a\"], [0.8888888888888888, \"#fdca26\"], [1.0, \"#f0f921\"]], \"type\": \"heatmap\"}], \"heatmapgl\": [{\"colorbar\": {\"outlinewidth\": 0, \"ticks\": \"\"}, \"colorscale\": [[0.0, \"#0d0887\"], [0.1111111111111111, \"#46039f\"], [0.2222222222222222, \"#7201a8\"], [0.3333333333333333, \"#9c179e\"], [0.4444444444444444, \"#bd3786\"], [0.5555555555555556, \"#d8576b\"], [0.6666666666666666, \"#ed7953\"], [0.7777777777777778, \"#fb9f3a\"], [0.8888888888888888, \"#fdca26\"], [1.0, \"#f0f921\"]], \"type\": \"heatmapgl\"}], \"histogram\": [{\"marker\": {\"colorbar\": {\"outlinewidth\": 0, \"ticks\": \"\"}}, \"type\": \"histogram\"}], \"histogram2d\": [{\"colorbar\": {\"outlinewidth\": 0, \"ticks\": \"\"}, \"colorscale\": [[0.0, \"#0d0887\"], [0.1111111111111111, \"#46039f\"], [0.2222222222222222, \"#7201a8\"], [0.3333333333333333, \"#9c179e\"], [0.4444444444444444, \"#bd3786\"], [0.5555555555555556, \"#d8576b\"], [0.6666666666666666, \"#ed7953\"], [0.7777777777777778, \"#fb9f3a\"], [0.8888888888888888, \"#fdca26\"], [1.0, \"#f0f921\"]], \"type\": \"histogram2d\"}], \"histogram2dcontour\": [{\"colorbar\": {\"outlinewidth\": 0, \"ticks\": \"\"}, \"colorscale\": [[0.0, \"#0d0887\"], [0.1111111111111111, \"#46039f\"], [0.2222222222222222, \"#7201a8\"], [0.3333333333333333, \"#9c179e\"], [0.4444444444444444, \"#bd3786\"], [0.5555555555555556, \"#d8576b\"], [0.6666666666666666, \"#ed7953\"], [0.7777777777777778, \"#fb9f3a\"], [0.8888888888888888, \"#fdca26\"], [1.0, \"#f0f921\"]], \"type\": \"histogram2dcontour\"}], \"mesh3d\": [{\"colorbar\": {\"outlinewidth\": 0, \"ticks\": \"\"}, \"type\": \"mesh3d\"}], \"parcoords\": [{\"line\": {\"colorbar\": {\"outlinewidth\": 0, \"ticks\": \"\"}}, \"type\": \"parcoords\"}], \"pie\": [{\"automargin\": true, \"type\": \"pie\"}], \"scatter\": [{\"marker\": {\"colorbar\": {\"outlinewidth\": 0, \"ticks\": \"\"}}, \"type\": \"scatter\"}], \"scatter3d\": [{\"line\": {\"colorbar\": {\"outlinewidth\": 0, \"ticks\": \"\"}}, \"marker\": {\"colorbar\": {\"outlinewidth\": 0, \"ticks\": \"\"}}, \"type\": \"scatter3d\"}], \"scattercarpet\": [{\"marker\": {\"colorbar\": {\"outlinewidth\": 0, \"ticks\": \"\"}}, \"type\": \"scattercarpet\"}], \"scattergeo\": [{\"marker\": {\"colorbar\": {\"outlinewidth\": 0, \"ticks\": \"\"}}, \"type\": \"scattergeo\"}], \"scattergl\": [{\"marker\": {\"colorbar\": {\"outlinewidth\": 0, \"ticks\": \"\"}}, \"type\": \"scattergl\"}], \"scattermapbox\": [{\"marker\": {\"colorbar\": {\"outlinewidth\": 0, \"ticks\": \"\"}}, \"type\": \"scattermapbox\"}], \"scatterpolar\": [{\"marker\": {\"colorbar\": {\"outlinewidth\": 0, \"ticks\": \"\"}}, \"type\": \"scatterpolar\"}], \"scatterpolargl\": [{\"marker\": {\"colorbar\": {\"outlinewidth\": 0, \"ticks\": \"\"}}, \"type\": \"scatterpolargl\"}], \"scatterternary\": [{\"marker\": {\"colorbar\": {\"outlinewidth\": 0, \"ticks\": \"\"}}, \"type\": \"scatterternary\"}], \"surface\": [{\"colorbar\": {\"outlinewidth\": 0, \"ticks\": \"\"}, \"colorscale\": [[0.0, \"#0d0887\"], [0.1111111111111111, \"#46039f\"], [0.2222222222222222, \"#7201a8\"], [0.3333333333333333, \"#9c179e\"], [0.4444444444444444, \"#bd3786\"], [0.5555555555555556, \"#d8576b\"], [0.6666666666666666, \"#ed7953\"], [0.7777777777777778, \"#fb9f3a\"], [0.8888888888888888, \"#fdca26\"], [1.0, \"#f0f921\"]], \"type\": \"surface\"}], \"table\": [{\"cells\": {\"fill\": {\"color\": \"#EBF0F8\"}, \"line\": {\"color\": \"white\"}}, \"header\": {\"fill\": {\"color\": \"#C8D4E3\"}, \"line\": {\"color\": \"white\"}}, \"type\": \"table\"}]}, \"layout\": {\"annotationdefaults\": {\"arrowcolor\": \"#2a3f5f\", \"arrowhead\": 0, \"arrowwidth\": 1}, \"autotypenumbers\": \"strict\", \"coloraxis\": {\"colorbar\": {\"outlinewidth\": 0, \"ticks\": \"\"}}, \"colorscale\": {\"diverging\": [[0, \"#8e0152\"], [0.1, \"#c51b7d\"], [0.2, \"#de77ae\"], [0.3, \"#f1b6da\"], [0.4, \"#fde0ef\"], [0.5, \"#f7f7f7\"], [0.6, \"#e6f5d0\"], [0.7, \"#b8e186\"], [0.8, \"#7fbc41\"], [0.9, \"#4d9221\"], [1, \"#276419\"]], \"sequential\": [[0.0, \"#0d0887\"], [0.1111111111111111, \"#46039f\"], [0.2222222222222222, \"#7201a8\"], [0.3333333333333333, \"#9c179e\"], [0.4444444444444444, \"#bd3786\"], [0.5555555555555556, \"#d8576b\"], [0.6666666666666666, \"#ed7953\"], [0.7777777777777778, \"#fb9f3a\"], [0.8888888888888888, \"#fdca26\"], [1.0, \"#f0f921\"]], \"sequentialminus\": [[0.0, \"#0d0887\"], [0.1111111111111111, \"#46039f\"], [0.2222222222222222, \"#7201a8\"], [0.3333333333333333, \"#9c179e\"], [0.4444444444444444, \"#bd3786\"], [0.5555555555555556, \"#d8576b\"], [0.6666666666666666, \"#ed7953\"], [0.7777777777777778, \"#fb9f3a\"], [0.8888888888888888, \"#fdca26\"], [1.0, \"#f0f921\"]]}, \"colorway\": [\"#636efa\", \"#EF553B\", \"#00cc96\", \"#ab63fa\", \"#FFA15A\", \"#19d3f3\", \"#FF6692\", \"#B6E880\", \"#FF97FF\", \"#FECB52\"], \"font\": {\"color\": \"#2a3f5f\"}, \"geo\": {\"bgcolor\": \"white\", \"lakecolor\": \"white\", \"landcolor\": \"#E5ECF6\", \"showlakes\": true, \"showland\": true, \"subunitcolor\": \"white\"}, \"hoverlabel\": {\"align\": \"left\"}, \"hovermode\": \"closest\", \"mapbox\": {\"style\": \"light\"}, \"paper_bgcolor\": \"white\", \"plot_bgcolor\": \"#E5ECF6\", \"polar\": {\"angularaxis\": {\"gridcolor\": \"white\", \"linecolor\": \"white\", \"ticks\": \"\"}, \"bgcolor\": \"#E5ECF6\", \"radialaxis\": {\"gridcolor\": \"white\", \"linecolor\": \"white\", \"ticks\": \"\"}}, \"scene\": {\"xaxis\": {\"backgroundcolor\": \"#E5ECF6\", \"gridcolor\": \"white\", \"gridwidth\": 2, \"linecolor\": \"white\", \"showbackground\": true, \"ticks\": \"\", \"zerolinecolor\": \"white\"}, \"yaxis\": {\"backgroundcolor\": \"#E5ECF6\", \"gridcolor\": \"white\", \"gridwidth\": 2, \"linecolor\": \"white\", \"showbackground\": true, \"ticks\": \"\", \"zerolinecolor\": \"white\"}, \"zaxis\": {\"backgroundcolor\": \"#E5ECF6\", \"gridcolor\": \"white\", \"gridwidth\": 2, \"linecolor\": \"white\", \"showbackground\": true, \"ticks\": \"\", \"zerolinecolor\": \"white\"}}, \"shapedefaults\": {\"line\": {\"color\": \"#2a3f5f\"}}, \"ternary\": {\"aaxis\": {\"gridcolor\": \"white\", \"linecolor\": \"white\", \"ticks\": \"\"}, \"baxis\": {\"gridcolor\": \"white\", \"linecolor\": \"white\", \"ticks\": \"\"}, \"bgcolor\": \"#E5ECF6\", \"caxis\": {\"gridcolor\": \"white\", \"linecolor\": \"white\", \"ticks\": \"\"}}, \"title\": {\"x\": 0.05}, \"xaxis\": {\"automargin\": true, \"gridcolor\": \"white\", \"linecolor\": \"white\", \"ticks\": \"\", \"title\": {\"standoff\": 15}, \"zerolinecolor\": \"white\", \"zerolinewidth\": 2}, \"yaxis\": {\"automargin\": true, \"gridcolor\": \"white\", \"linecolor\": \"white\", \"ticks\": \"\", \"title\": {\"standoff\": 15}, \"zerolinecolor\": \"white\", \"zerolinewidth\": 2}}}, \"title\": {\"text\": \"Emojis m\\u00e1s usados\"}},                        {\"responsive\": true}                    ).then(function(){\n",
       "                            \n",
       "var gd = document.getElementById('3163f44b-47f3-43fd-8c1f-c36d811c27ed');\n",
       "var x = new MutationObserver(function (mutations, observer) {{\n",
       "        var display = window.getComputedStyle(gd).display;\n",
       "        if (!display || display === 'none') {{\n",
       "            console.log([gd, 'removed!']);\n",
       "            Plotly.purge(gd);\n",
       "            observer.disconnect();\n",
       "        }}\n",
       "}});\n",
       "\n",
       "// Listen for the removal of the full notebook cells\n",
       "var notebookContainer = gd.closest('#notebook-container');\n",
       "if (notebookContainer) {{\n",
       "    x.observe(notebookContainer, {childList: true});\n",
       "}}\n",
       "\n",
       "// Listen for the clearing of the current output cell\n",
       "var outputEl = gd.closest('.output');\n",
       "if (outputEl) {{\n",
       "    x.observe(outputEl, {childList: true});\n",
       "}}\n",
       "\n",
       "                        })                };                });            </script>        </div>"
      ]
     },
     "metadata": {},
     "output_type": "display_data"
    }
   ],
   "source": [
    "fig = go.Figure(data=[trace], layout=layout)\n",
    "iplot(fig)"
   ]
  },
  {
   "cell_type": "code",
   "execution_count": 38,
   "metadata": {
    "slideshow": {
     "slide_type": "skip"
    }
   },
   "outputs": [],
   "source": [
    "# Importamos las librerias\n",
    "import matplotlib.pyplot as plt\n",
    "\n",
    "from wordcloud import WordCloud\n",
    "from wordcloud import ImageColorGenerator\n",
    "\n",
    "from nltk.corpus import stopwords\n",
    "\n",
    "stopwords = stopwords.words('spanish')"
   ]
  },
  {
   "cell_type": "code",
   "execution_count": 45,
   "metadata": {
    "slideshow": {
     "slide_type": "skip"
    }
   },
   "outputs": [
    {
     "data": {
      "text/html": [
       "<div>\n",
       "<style scoped>\n",
       "    .dataframe tbody tr th:only-of-type {\n",
       "        vertical-align: middle;\n",
       "    }\n",
       "\n",
       "    .dataframe tbody tr th {\n",
       "        vertical-align: top;\n",
       "    }\n",
       "\n",
       "    .dataframe thead th {\n",
       "        text-align: right;\n",
       "    }\n",
       "</style>\n",
       "<table border=\"1\" class=\"dataframe\">\n",
       "  <thead>\n",
       "    <tr style=\"text-align: right;\">\n",
       "      <th></th>\n",
       "      <th>tweets</th>\n",
       "      <th>date</th>\n",
       "      <th>city</th>\n",
       "      <th>user_location</th>\n",
       "      <th>id</th>\n",
       "      <th>link</th>\n",
       "      <th>texto_limpio</th>\n",
       "      <th>links</th>\n",
       "      <th>hashtags</th>\n",
       "      <th>mentions</th>\n",
       "      <th>emojis</th>\n",
       "      <th>puntaje_sent</th>\n",
       "      <th>puntaje</th>\n",
       "      <th>tipo_sent</th>\n",
       "      <th>pp</th>\n",
       "    </tr>\n",
       "  </thead>\n",
       "  <tbody>\n",
       "    <tr>\n",
       "      <th>0</th>\n",
       "      <td>#HablemosDeVacunas @UniJaveriana Sinovac es un...</td>\n",
       "      <td>2021-06-03 16:45:14</td>\n",
       "      <td>Bogotá</td>\n",
       "      <td>Medellín, Colombia</td>\n",
       "      <td>1400493791233069059</td>\n",
       "      <td>https://twitter.com/i/web/stuatus/140049379123...</td>\n",
       "      <td>Sinovac es una vacuna de Virus inactivado, s...</td>\n",
       "      <td>[https://t.co/WHQKeAZRba, https://t.co/1tTPBSV...</td>\n",
       "      <td>[#HablemosDeVacunas, #COVID19]</td>\n",
       "      <td>[@UniJaveriana, @MinSaludCol]</td>\n",
       "      <td>[👌, 💉, 💉, 😷, 🦠]</td>\n",
       "      <td>0.4466</td>\n",
       "      <td>0.4466</td>\n",
       "      <td>POSITIVE</td>\n",
       "      <td>virus inactivado segura efectiva plan luego co...</td>\n",
       "    </tr>\n",
       "    <tr>\n",
       "      <th>1</th>\n",
       "      <td>@marcela_gallego A mi hermano, a colegas conoc...</td>\n",
       "      <td>2021-06-03 16:42:54</td>\n",
       "      <td>Bogotá</td>\n",
       "      <td>Bogotá</td>\n",
       "      <td>1400493203292311563</td>\n",
       "      <td>https://twitter.com/i/web/stuatus/140049320329...</td>\n",
       "      <td>A mi hermano, a colegas conocidos y a mi nos ...</td>\n",
       "      <td>[]</td>\n",
       "      <td>[]</td>\n",
       "      <td>[@marcela_gallego]</td>\n",
       "      <td>[🙏🏼]</td>\n",
       "      <td>0.0000</td>\n",
       "      <td>0.0000</td>\n",
       "      <td>NEUTRO</td>\n",
       "      <td>hermano colegas conocidos aplicaron allá dolor...</td>\n",
       "    </tr>\n",
       "    <tr>\n",
       "      <th>2</th>\n",
       "      <td>@drhuerta Que riesgos pueden haber al vacunars...</td>\n",
       "      <td>2021-06-03 16:42:00</td>\n",
       "      <td>Bogotá</td>\n",
       "      <td>Bogotá</td>\n",
       "      <td>1400492979555536899</td>\n",
       "      <td>https://twitter.com/i/web/stuatus/140049297955...</td>\n",
       "      <td>Que riesgos pueden haber al vacunarse dos vec...</td>\n",
       "      <td>[]</td>\n",
       "      <td>[]</td>\n",
       "      <td>[@drhuerta]</td>\n",
       "      <td>[]</td>\n",
       "      <td>0.0000</td>\n",
       "      <td>0.0000</td>\n",
       "      <td>NEUTRO</td>\n",
       "      <td>riesgos pueden haber vacunarse dos veces dos d...</td>\n",
       "    </tr>\n",
       "    <tr>\n",
       "      <th>3</th>\n",
       "      <td>@PesquisaPUJ ¿Hay alguna resolución o norma do...</td>\n",
       "      <td>2021-06-03 16:33:59</td>\n",
       "      <td>Bogotá</td>\n",
       "      <td>Bogotá, D.C., Colombia</td>\n",
       "      <td>1400490961239789568</td>\n",
       "      <td>https://twitter.com/i/web/stuatus/140049096123...</td>\n",
       "      <td>¿Hay alguna resolución o norma donde se forma...</td>\n",
       "      <td>[]</td>\n",
       "      <td>[#SinMitos]</td>\n",
       "      <td>[@PesquisaPUJ, @ELTIEMPO, @UniJaveriana, @MinS...</td>\n",
       "      <td>[]</td>\n",
       "      <td>0.0000</td>\n",
       "      <td>0.0000</td>\n",
       "      <td>NEUTRO</td>\n",
       "      <td>alguna resolución norma formalice decisión alg...</td>\n",
       "    </tr>\n",
       "    <tr>\n",
       "      <th>4</th>\n",
       "      <td>@marcela_gallego Previo covid positivo y Dos d...</td>\n",
       "      <td>2021-06-03 16:31:33</td>\n",
       "      <td>Bogotá</td>\n",
       "      <td>Bogota, Colombia</td>\n",
       "      <td>1400490346073804804</td>\n",
       "      <td>https://twitter.com/i/web/stuatus/140049034607...</td>\n",
       "      <td>Previo covid positivo y Dos dosis de pfizer t...</td>\n",
       "      <td>[]</td>\n",
       "      <td>[#Vacunate]</td>\n",
       "      <td>[@marcela_gallego]</td>\n",
       "      <td>[]</td>\n",
       "      <td>0.0258</td>\n",
       "      <td>0.0258</td>\n",
       "      <td>POSITIVE</td>\n",
       "      <td>previo positivo dos dosis súper bien contacto ...</td>\n",
       "    </tr>\n",
       "  </tbody>\n",
       "</table>\n",
       "</div>"
      ],
      "text/plain": [
       "                                              tweets                date  \\\n",
       "0  #HablemosDeVacunas @UniJaveriana Sinovac es un... 2021-06-03 16:45:14   \n",
       "1  @marcela_gallego A mi hermano, a colegas conoc... 2021-06-03 16:42:54   \n",
       "2  @drhuerta Que riesgos pueden haber al vacunars... 2021-06-03 16:42:00   \n",
       "3  @PesquisaPUJ ¿Hay alguna resolución o norma do... 2021-06-03 16:33:59   \n",
       "4  @marcela_gallego Previo covid positivo y Dos d... 2021-06-03 16:31:33   \n",
       "\n",
       "     city           user_location                   id  \\\n",
       "0  Bogotá      Medellín, Colombia  1400493791233069059   \n",
       "1  Bogotá                  Bogotá  1400493203292311563   \n",
       "2  Bogotá                  Bogotá  1400492979555536899   \n",
       "3  Bogotá  Bogotá, D.C., Colombia  1400490961239789568   \n",
       "4  Bogotá        Bogota, Colombia  1400490346073804804   \n",
       "\n",
       "                                                link  \\\n",
       "0  https://twitter.com/i/web/stuatus/140049379123...   \n",
       "1  https://twitter.com/i/web/stuatus/140049320329...   \n",
       "2  https://twitter.com/i/web/stuatus/140049297955...   \n",
       "3  https://twitter.com/i/web/stuatus/140049096123...   \n",
       "4  https://twitter.com/i/web/stuatus/140049034607...   \n",
       "\n",
       "                                        texto_limpio  \\\n",
       "0    Sinovac es una vacuna de Virus inactivado, s...   \n",
       "1   A mi hermano, a colegas conocidos y a mi nos ...   \n",
       "2   Que riesgos pueden haber al vacunarse dos vec...   \n",
       "3   ¿Hay alguna resolución o norma donde se forma...   \n",
       "4   Previo covid positivo y Dos dosis de pfizer t...   \n",
       "\n",
       "                                               links  \\\n",
       "0  [https://t.co/WHQKeAZRba, https://t.co/1tTPBSV...   \n",
       "1                                                 []   \n",
       "2                                                 []   \n",
       "3                                                 []   \n",
       "4                                                 []   \n",
       "\n",
       "                         hashtags  \\\n",
       "0  [#HablemosDeVacunas, #COVID19]   \n",
       "1                              []   \n",
       "2                              []   \n",
       "3                     [#SinMitos]   \n",
       "4                     [#Vacunate]   \n",
       "\n",
       "                                            mentions           emojis  \\\n",
       "0                      [@UniJaveriana, @MinSaludCol]  [👌, 💉, 💉, 😷, 🦠]   \n",
       "1                                 [@marcela_gallego]             [🙏🏼]   \n",
       "2                                        [@drhuerta]               []   \n",
       "3  [@PesquisaPUJ, @ELTIEMPO, @UniJaveriana, @MinS...               []   \n",
       "4                                 [@marcela_gallego]               []   \n",
       "\n",
       "   puntaje_sent  puntaje tipo_sent  \\\n",
       "0        0.4466   0.4466  POSITIVE   \n",
       "1        0.0000   0.0000    NEUTRO   \n",
       "2        0.0000   0.0000    NEUTRO   \n",
       "3        0.0000   0.0000    NEUTRO   \n",
       "4        0.0258   0.0258  POSITIVE   \n",
       "\n",
       "                                                  pp  \n",
       "0  virus inactivado segura efectiva plan luego co...  \n",
       "1  hermano colegas conocidos aplicaron allá dolor...  \n",
       "2  riesgos pueden haber vacunarse dos veces dos d...  \n",
       "3  alguna resolución norma formalice decisión alg...  \n",
       "4  previo positivo dos dosis súper bien contacto ...  "
      ]
     },
     "execution_count": 45,
     "metadata": {},
     "output_type": "execute_result"
    }
   ],
   "source": [
    "#PROYECTAR\n",
    "#limpieza del texto\n",
    "import re \n",
    "\n",
    "# stopwords.append(\"https\")\n",
    "# stopwords.append(\"co\")\n",
    "\n",
    "stopwords.extend([\"Covid\", \"covid\", \"Pfizer\", \"Vacuna\", \"sinovac\", \"vacunas\", \"colombia\", \"vacuna\", \"pfizer\"])#quitar palabras muy repetidas\n",
    "\n",
    "def pre_procesado(texto):\n",
    "    texto = texto.lower()\n",
    "    texto = re.sub(r\"[\\W\\d_]+\", \" \", texto)\n",
    "    texto = [palabra for palabra in texto.split() if palabra not in stopwords]\n",
    "    texto = \" \".join(texto)\n",
    "    return texto\n",
    "\n",
    "data['pp'] = data.texto_limpio.apply(lambda texto: pre_procesado(texto))\n",
    "\n",
    "data.head()"
   ]
  },
  {
   "cell_type": "code",
   "execution_count": 46,
   "metadata": {
    "slideshow": {
     "slide_type": "skip"
    }
   },
   "outputs": [],
   "source": [
    "Nube_Colombia= PIL.Image.open(\"C:/Users/usuario/Desktop/NLP/22_Febrero/Colombia_1.png\")\n"
   ]
  },
  {
   "cell_type": "code",
   "execution_count": 47,
   "metadata": {
    "slideshow": {
     "slide_type": "skip"
    }
   },
   "outputs": [],
   "source": [
    "mask = np.array(Nube_Colombia)"
   ]
  },
  {
   "cell_type": "code",
   "execution_count": 48,
   "metadata": {
    "slideshow": {
     "slide_type": "skip"
    }
   },
   "outputs": [],
   "source": [
    "P = data.loc[:, 'puntaje_sent'] > 0\n",
    "df_p = data.loc[P]"
   ]
  },
  {
   "cell_type": "code",
   "execution_count": 49,
   "metadata": {
    "slideshow": {
     "slide_type": "skip"
    }
   },
   "outputs": [],
   "source": [
    "palabras = data.texto_limpio.str.cat(sep=\" \")\n",
    "wordcloud = WordCloud(width=800, height=400,\n",
    "                      max_font_size=150, max_words=250,\n",
    "                      background_color=\"white\", colormap='inferno',\n",
    "                      stopwords=stopwords,\n",
    "                      mask=mask, contour_width=4, contour_color='black').generate(palabras) \n",
    "\n"
   ]
  },
  {
   "cell_type": "code",
   "execution_count": 50,
   "metadata": {
    "slideshow": {
     "slide_type": "slide"
    }
   },
   "outputs": [
    {
     "data": {
      "image/png": "[encoded data removed]",
      "text/plain": [
       "<Figure size 432x432 with 1 Axes>"
      ]
     },
     "metadata": {
      "needs_background": "light"
     },
     "output_type": "display_data"
    }
   ],
   "source": [
    "plt.figure(figsize=(6,6))\n",
    "plt.imshow(wordcloud, interpolation='bilinear')\n",
    "plt.axis(\"off\")\n",
    "plt.tight_layout(pad=0)\n",
    "plt.suptitle('Positivos',fontsize=25)\n",
    "plt.show()\n"
   ]
  },
  {
   "cell_type": "code",
   "execution_count": 51,
   "metadata": {
    "slideshow": {
     "slide_type": "skip"
    }
   },
   "outputs": [],
   "source": [
    "Nube_Colombia_1= PIL.Image.open(\"C:/Users/usuario/Desktop/NLP/22_Febrero/Colombia_1.png\")"
   ]
  },
  {
   "cell_type": "code",
   "execution_count": 52,
   "metadata": {
    "slideshow": {
     "slide_type": "skip"
    }
   },
   "outputs": [],
   "source": [
    "mask_1 = np.array(Nube_Colombia_1)"
   ]
  },
  {
   "cell_type": "code",
   "execution_count": 53,
   "metadata": {
    "slideshow": {
     "slide_type": "skip"
    }
   },
   "outputs": [],
   "source": [
    "P2 = data.loc[:, 'puntaje_sent'] < 0\n",
    "df_p2 = data.loc[P2]"
   ]
  },
  {
   "cell_type": "code",
   "execution_count": 54,
   "metadata": {
    "slideshow": {
     "slide_type": "skip"
    }
   },
   "outputs": [],
   "source": [
    "palabras2 = data.texto_limpio.str.cat(sep=\" \")\n",
    "wordcloud2 = WordCloud(width=800, height=400,\n",
    "                      max_font_size=150, max_words=250,\n",
    "                      background_color=\"white\", colormap='inferno',\n",
    "                      stopwords=stopwords,\n",
    "                      mask=mask, contour_width=4, contour_color='black').generate(palabras) \n"
   ]
  },
  {
   "cell_type": "code",
   "execution_count": 59,
   "metadata": {
    "slideshow": {
     "slide_type": "slide"
    }
   },
   "outputs": [
    {
     "data": {
      "image/png": "[encoded data removed]",
      "text/plain": [
       "<Figure size 432x432 with 1 Axes>"
      ]
     },
     "metadata": {
      "needs_background": "light"
     },
     "output_type": "display_data"
    }
   ],
   "source": [
    "plt.figure(figsize=(6,6))\n",
    "plt.imshow(wordcloud2, interpolation='bilinear')\n",
    "plt.axis(\"off\")\n",
    "plt.tight_layout(pad=0)\n",
    "plt.suptitle('Tweet Negativos',fontsize=15) \n",
    "plt.show()"
   ]
  }
 ],
 "metadata": {
  "celltoolbar": "Slideshow",
  "kernelspec": {
   "display_name": "Python 3",
   "language": "python",
   "name": "python3"
  },
  "language_info": {
   "codemirror_mode": {
    "name": "ipython",
    "version": 3
   },
   "file_extension": ".py",
   "mimetype": "text/x-python",
   "name": "python",
   "nbconvert_exporter": "python",
   "pygments_lexer": "ipython3",
   "version": "3.8.3"
  }
 },
 "nbformat": 4,
 "nbformat_minor": 4
}
